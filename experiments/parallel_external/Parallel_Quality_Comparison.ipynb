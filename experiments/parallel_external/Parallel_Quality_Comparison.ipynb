{
 "cells": [
  {
   "cell_type": "code",
   "execution_count": 1,
   "id": "assumed-beach",
   "metadata": {},
   "outputs": [
    {
     "name": "stderr",
     "output_type": "stream",
     "text": [
      "\n",
      "Bad key text.latex.preview in file /opt/anaconda3/lib/python3.8/site-packages/matplotlib/mpl-data/stylelib/_classic_test.mplstyle, line 123 ('text.latex.preview : False')\n",
      "You probably need to get an updated matplotlibrc file from\n",
      "https://github.com/matplotlib/matplotlib/blob/v3.5.1/matplotlibrc.template\n",
      "or from the matplotlib source distribution\n",
      "\n",
      "Bad key mathtext.fallback_to_cm in file /opt/anaconda3/lib/python3.8/site-packages/matplotlib/mpl-data/stylelib/_classic_test.mplstyle, line 155 ('mathtext.fallback_to_cm : True  # When True, use symbols from the Computer Modern')\n",
      "You probably need to get an updated matplotlibrc file from\n",
      "https://github.com/matplotlib/matplotlib/blob/v3.5.1/matplotlibrc.template\n",
      "or from the matplotlib source distribution\n",
      "\n",
      "Bad key savefig.jpeg_quality in file /opt/anaconda3/lib/python3.8/site-packages/matplotlib/mpl-data/stylelib/_classic_test.mplstyle, line 418 ('savefig.jpeg_quality: 95       # when a jpeg is saved, the default quality parameter.')\n",
      "You probably need to get an updated matplotlibrc file from\n",
      "https://github.com/matplotlib/matplotlib/blob/v3.5.1/matplotlibrc.template\n",
      "or from the matplotlib source distribution\n",
      "\n",
      "Bad key keymap.all_axes in file /opt/anaconda3/lib/python3.8/site-packages/matplotlib/mpl-data/stylelib/_classic_test.mplstyle, line 466 ('keymap.all_axes : a                 # enable all axes')\n",
      "You probably need to get an updated matplotlibrc file from\n",
      "https://github.com/matplotlib/matplotlib/blob/v3.5.1/matplotlibrc.template\n",
      "or from the matplotlib source distribution\n",
      "\n",
      "Bad key animation.avconv_path in file /opt/anaconda3/lib/python3.8/site-packages/matplotlib/mpl-data/stylelib/_classic_test.mplstyle, line 477 ('animation.avconv_path: avconv     # Path to avconv binary. Without full path')\n",
      "You probably need to get an updated matplotlibrc file from\n",
      "https://github.com/matplotlib/matplotlib/blob/v3.5.1/matplotlibrc.template\n",
      "or from the matplotlib source distribution\n",
      "\n",
      "Bad key animation.avconv_args in file /opt/anaconda3/lib/python3.8/site-packages/matplotlib/mpl-data/stylelib/_classic_test.mplstyle, line 479 ('animation.avconv_args:            # Additional arguments to pass to avconv')\n",
      "You probably need to get an updated matplotlibrc file from\n",
      "https://github.com/matplotlib/matplotlib/blob/v3.5.1/matplotlibrc.template\n",
      "or from the matplotlib source distribution\n"
     ]
    }
   ],
   "source": [
    "import numpy as np\n",
    "import matplotlib.pyplot as plt\n",
    "import time\n",
    "from ebc.sequential.non_iterative import SensitivityBasedIS\n",
    "from ebc.sequential.iterative_with_convexification import SensitivityBasedFW\n",
    "from ebc.sequential.iterative_no_convexification import SparseVI, GIGA, IHT\n",
    "from ebc.gaussian import fisher_norm_under_true_gaussian_posterior, gaussian_multivariate_log_likelihood, gaussian_KL\n",
    "import multiprocessing as mp\n",
    "from multiprocessing import get_context"
   ]
  },
  {
   "cell_type": "code",
   "execution_count": 2,
   "id": "mighty-victim",
   "metadata": {},
   "outputs": [],
   "source": [
    "from sklearn.decomposition import PCA\n",
    "\n",
    "def plot_points(points, indices, w):\n",
    "    pca = PCA(n_components = 2)\n",
    "    vecs = pca.fit_transform(points)\n",
    "    plt.scatter(vecs[indices, 0], vecs[indices, 1], \n",
    "                  s = w.flatten()[indices] * 50, alpha = 0.5)\n",
    "    vecs = np.delete(vecs, indices, axis = 0)\n",
    "    plt.scatter(vecs[:, 0], vecs[:, 1], alpha = 0.5, label = \"NOT in coreset\")\n",
    "    plt.title(\"Points\")\n",
    "    plt.ylabel(\"PCA2\")\n",
    "    plt.xlabel(\"PCA1\")\n",
    "    plt.grid()\n",
    "    plt.legend()\n",
    "    \n",
    "def plot_results(fkl, bkl, points, indices, w):\n",
    "    fig, ax = plt.subplots(1, 3, figsize = (20, 5))\n",
    "    ax[0].plot(fkl)\n",
    "    ax[0].set_title(\"FKL\")\n",
    "    ax[0].set_ylabel(\"FKL\")\n",
    "    ax[0].set_xlabel(\"Coreset Size\")\n",
    "    ax[0].grid()\n",
    "    \n",
    "    ax[1].plot(fkl)\n",
    "    ax[1].set_title(\"BKL\")\n",
    "    ax[1].set_ylabel(\"BKL\")\n",
    "    ax[1].set_xlabel(\"Coreset Size\")\n",
    "    ax[1].grid()\n",
    "    \n",
    "    pca = PCA(n_components = 2)\n",
    "    vecs = pca.fit_transform(points)\n",
    "    ax[2].scatter(vecs[indices, 0], vecs[indices, 1], \n",
    "                  s = w.flatten()[indices] * 50, alpha = 0.5)\n",
    "    vecs = np.delete(vecs, indices, axis = 0)\n",
    "    ax[2].scatter(vecs[:, 0], vecs[:, 1], alpha = 0.5, label = \"NOT in coreset\")\n",
    "    ax[2].set_title(\"Points\")\n",
    "    ax[2].set_ylabel(\"PCA2\")\n",
    "    ax[2].set_xlabel(\"PCA1\")\n",
    "    ax[2].grid()\n",
    "    ax[2].legend()\n",
    "    \n",
    "    #for ind in indices:\n",
    "    #    ax[2].annotate(round(w.flatten()[ind]), (vecs[ind, 0], vecs[ind, 1]))"
   ]
  },
  {
   "cell_type": "code",
   "execution_count": 3,
   "id": "46be9a50",
   "metadata": {},
   "outputs": [],
   "source": [
    "def distribute_randomly(x):\n",
    "    N = x.shape[0]\n",
    "    \n",
    "    probs = np.ones(N) / N\n",
    "    \n",
    "    # Calculate probabilities for distribution for each data point\n",
    "    full_inds = []\n",
    "    chunk_size = N // (mp.cpu_count() - 2)\n",
    "    \n",
    "    for i in range(mp.cpu_count() - 2):\n",
    "        inds = np.random.choice(np.arange(N), chunk_size, replace = False, p = probs)\n",
    "        probs[inds] = 0\n",
    "        probs = probs / np.sum(probs)\n",
    "        full_inds.append(inds.flatten().tolist())\n",
    "\n",
    "    full_inds.append(np.arange(N)[probs.flatten() != 0].tolist())\n",
    "    \n",
    "    return full_inds"
   ]
  },
  {
   "cell_type": "code",
   "execution_count": 4,
   "id": "85820d9b",
   "metadata": {},
   "outputs": [],
   "source": [
    "def external_parallelization(alg, x, k, norm, na, distributed_indices, likelihood_gram_matrix, y):\n",
    "    pool = get_context(\"fork\").Pool(mp.cpu_count() - 1)\n",
    "    \n",
    "    if y is None:\n",
    "        if likelihood_gram_matrix is None:\n",
    "            output = [pool.apply(apply_algorithm, args = [alg, \n",
    "                                                          x[ind, :],\n",
    "                                                          k, \n",
    "                                                          norm, \n",
    "                                                          na,\n",
    "                                                          None,\n",
    "                                                          None]) for ind in distributed_indices]\n",
    "        else:\n",
    "            output = [pool.apply(apply_algorithm, args = [alg, \n",
    "                                                          x[ind, :],\n",
    "                                                          k, \n",
    "                                                          norm, \n",
    "                                                          na,\n",
    "                                                          likelihood_gram_matrix[np.ix_(ind, ind)], None]) for ind in distributed_indices]\n",
    "    else:\n",
    "        if likelihood_gram_matrix is None:\n",
    "            output = [pool.apply(apply_algorithm, args = [alg, \n",
    "                                                          x[ind, :],\n",
    "                                                          k, \n",
    "                                                          norm, \n",
    "                                                          na,\n",
    "                                                          None,\n",
    "                                                          y[ind, :]]) for ind in distributed_indices]\n",
    "        else:\n",
    "            output = [pool.apply(apply_algorithm, args = [alg, \n",
    "                                                          x[ind, :],\n",
    "                                                          k, \n",
    "                                                          norm, \n",
    "                                                          na,\n",
    "                                                          likelihood_gram_matrix[np.ix_(ind, ind)], y[ind, :]]) for ind in distributed_indices]\n",
    "\n",
    "\n",
    "    \n",
    "    pool.close()\n",
    "    w = np.concatenate(output)\n",
    "    \n",
    "    return w"
   ]
  },
  {
   "cell_type": "code",
   "execution_count": 5,
   "id": "239573b9",
   "metadata": {},
   "outputs": [],
   "source": [
    "def apply_algorithm(alg, \n",
    "                    x = None, \n",
    "                    k = None,\n",
    "                    norm = None,\n",
    "                    na = None,\n",
    "                    likelihood_gram_matrix = None,\n",
    "                    y = None):\n",
    "    inst = alg(x, y)\n",
    "    w, I = inst.run(k = k, likelihood_gram_matrix = likelihood_gram_matrix, norm = norm, norm_attributes = na)\n",
    "    return w"
   ]
  },
  {
   "cell_type": "code",
   "execution_count": 6,
   "id": "eb7a3400",
   "metadata": {},
   "outputs": [],
   "source": [
    "coreset_sizes = np.arange(100, 1200, 200)"
   ]
  },
  {
   "cell_type": "markdown",
   "id": "cordless-carter",
   "metadata": {},
   "source": [
    "## 1. Multivariate Gaussian's Mean"
   ]
  },
  {
   "cell_type": "code",
   "execution_count": 7,
   "id": "novel-smoke",
   "metadata": {},
   "outputs": [],
   "source": [
    "def log_likelihood(params, X, y, weights):\n",
    "    mu = params[:d].reshape(-1, 1)\n",
    "    sigma = np.diag(params[d:].reshape(-1, 1)[:, 0])\n",
    "    return np.diag(gaussian_multivariate_log_likelihood(X.T, mu, sigma)).reshape(-1, 1)\n",
    "\n",
    "# https://stats.stackexchange.com/questions/90134/gradient-of-multivariate-gaussian-log-likelihood\n",
    "def grad_log_likelihood(params, X, y, weights):\n",
    "    mu = params[:d].reshape(-1, 1)\n",
    "    sigma = np.diag(params[d:].reshape(-1, 1)[:, 0])\n",
    "    return (-np.linalg.inv(sigma) @ (X.T - mu)).reshape(-1, X.shape[1])\n",
    "\n",
    "def log_posterior(params, X, y, weights):\n",
    "    return weights.T @ log_likelihood(params, X, y, weights)"
   ]
  },
  {
   "cell_type": "code",
   "execution_count": 8,
   "id": "technical-shooting",
   "metadata": {},
   "outputs": [
    {
     "name": "stdout",
     "output_type": "stream",
     "text": [
      "100\n",
      "300\n",
      "500\n",
      "700\n",
      "900\n",
      "1100\n"
     ]
    }
   ],
   "source": [
    "fkl_s = []\n",
    "bkl_s = []\n",
    "\n",
    "fkl_p = []\n",
    "bkl_p = []\n",
    "\n",
    "time_p = []\n",
    "time_s = []\n",
    "\n",
    "# Generate Data\n",
    "d = 20\n",
    "N = 10000\n",
    "\n",
    "np.random.seed(123)\n",
    "\n",
    "# Theta as in sparse_vi\n",
    "theta = np.random.multivariate_normal(mean = np.zeros(d), cov = np.identity(d))\n",
    "\n",
    "# x as in sparse_vi\n",
    "x = np.random.multivariate_normal(mean = theta, cov = np.identity(d), size = N)\n",
    "\n",
    "# Parameters\n",
    "sigma_0 = np.identity(d)\n",
    "sigma = np.identity(d)\n",
    "mu_0 = np.zeros(d).reshape(-1, 1)\n",
    "\n",
    "# Full Gaussian posterior\n",
    "sigma_full = np.linalg.inv(np.linalg.inv(sigma_0) + N * np.linalg.inv(sigma))\n",
    "mu_full =  sigma_full @ (np.linalg.inv(sigma_0) @ mu_0 + np.linalg.inv(sigma) @ np.sum(x, axis = 0).reshape(-1, 1))        \n",
    "\n",
    "na = {\"log_likelihood\": log_likelihood,\n",
    "      \"log_likelihood_start_value\": np.ones(2 * d),\n",
    "      \"S\": 500,\n",
    "      \"log_likelihood_gradient\": grad_log_likelihood,\n",
    "      \"approx\": \"Laplace\",\n",
    "      \"MCMC_subs_size\": 500,\n",
    "      \"log_posterior\": log_posterior,\n",
    "      \"log_posterior_start_value\": np.ones(2 * d)}\n",
    "\n",
    "for i in coreset_sizes:\n",
    "    \n",
    "    print(i)\n",
    "    \n",
    "    ## Parallel\n",
    "    \n",
    "    start = time.time()\n",
    "    \n",
    "    # Step 1: distribute\n",
    "    full_inds = distribute_randomly(x)\n",
    "    \n",
    "    # Step 2: run IS\n",
    "    w_is = external_parallelization(SensitivityBasedIS, x, i, \"2\", \n",
    "                                 na, full_inds, None)\n",
    "    \n",
    "    # Step 3: get smaller dataset\n",
    "    x_new = x[w_is.flatten() != 0]\n",
    "    x_new = x_new.copy()\n",
    "    \n",
    "    # Step 4: run FW on it\n",
    "    sbfw = SensitivityBasedFW(x_new)\n",
    "    w_fw, I_fw = sbfw.run(k = i, likelihood_gram_matrix = None, norm = \"2\", norm_attributes = na)\n",
    "    \n",
    "    w_is[w_is.flatten() != 0] = w_fw\n",
    "    w = w_is.copy()\n",
    "    \n",
    "    time_p.append(time.time() - start)\n",
    "    \n",
    "    # Calculate posterior approximation\n",
    "    sigma_hat = 1 / (1 + np.sum(w)) * np.identity(d)\n",
    "    mu_hat = sigma_hat @ (mu_0 + x.T @ w)\n",
    "\n",
    "    fkl_p.append(gaussian_KL(sigma_full, sigma_hat, mu_full, mu_hat))\n",
    "    bkl_p.append(gaussian_KL(sigma_hat, sigma_full, mu_hat, mu_full))\n",
    "    \n",
    "    # Sequential\n",
    "    start = time.time()\n",
    "    sbfw = SensitivityBasedFW(x)\n",
    "    w, I = sbfw.run(k = i, likelihood_gram_matrix = None, norm = \"2\", norm_attributes = na)\n",
    "    time_s.append(time.time() - start)\n",
    "    \n",
    "    # Calculate posterior approximation\n",
    "    sigma_hat = 1 / (1 + np.sum(w)) * np.identity(d)\n",
    "    mu_hat = sigma_hat @ (mu_0 + x.T @ w)\n",
    "\n",
    "    fkl_s.append(gaussian_KL(sigma_full, sigma_hat, mu_full, mu_hat))\n",
    "    bkl_s.append(gaussian_KL(sigma_hat, sigma_full, mu_hat, mu_full))"
   ]
  },
  {
   "cell_type": "code",
   "execution_count": 10,
   "id": "17144a0c",
   "metadata": {},
   "outputs": [
    {
     "data": {
      "text/plain": [
       "[1358.7627025962242,\n",
       " 1633.4327904517986,\n",
       " 577.716256956607,\n",
       " 13.509597260453269,\n",
       " 941.2470496207682,\n",
       " 11.92199292874578]"
      ]
     },
     "execution_count": 10,
     "metadata": {},
     "output_type": "execute_result"
    }
   ],
   "source": [
    "fkl_s"
   ]
  },
  {
   "cell_type": "code",
   "execution_count": 11,
   "id": "64fbbccd",
   "metadata": {},
   "outputs": [
    {
     "data": {
      "text/plain": [
       "[29.749293769600083,\n",
       " 17.4297895242882,\n",
       " 40.36183025414981,\n",
       " 26.203125717510552,\n",
       " 62.996259107233065,\n",
       " 315.3704331276808]"
      ]
     },
     "execution_count": 11,
     "metadata": {},
     "output_type": "execute_result"
    }
   ],
   "source": [
    "fkl_p"
   ]
  },
  {
   "cell_type": "code",
   "execution_count": 12,
   "id": "9cfd94c9",
   "metadata": {},
   "outputs": [
    {
     "data": {
      "text/plain": [
       "[1371.7113822540384,\n",
       " 1627.3722687141903,\n",
       " 580.9005926059805,\n",
       " 13.563782327181999,\n",
       " 949.631639061337,\n",
       " 11.902286016465416]"
      ]
     },
     "execution_count": 12,
     "metadata": {},
     "output_type": "execute_result"
    }
   ],
   "source": [
    "bkl_s"
   ]
  },
  {
   "cell_type": "code",
   "execution_count": 13,
   "id": "80ec8632",
   "metadata": {},
   "outputs": [
    {
     "data": {
      "text/plain": [
       "[327.6386183966622,\n",
       " 85.88848176011572,\n",
       " 165.3327959179821,\n",
       " 97.27732104730782,\n",
       " 163.33443648659735,\n",
       " 720.5368321361025]"
      ]
     },
     "execution_count": 13,
     "metadata": {},
     "output_type": "execute_result"
    }
   ],
   "source": [
    "bkl_p"
   ]
  },
  {
   "cell_type": "code",
   "execution_count": 14,
   "id": "adc7afcb",
   "metadata": {},
   "outputs": [
    {
     "data": {
      "text/plain": [
       "[779.8719487190247,\n",
       " 800.5873231887817,\n",
       " 815.9593460559845,\n",
       " 851.1231389045715,\n",
       " 859.1312372684479,\n",
       " 872.4340128898621]"
      ]
     },
     "execution_count": 14,
     "metadata": {},
     "output_type": "execute_result"
    }
   ],
   "source": [
    "time_s"
   ]
  },
  {
   "cell_type": "code",
   "execution_count": 15,
   "id": "9994c600",
   "metadata": {},
   "outputs": [
    {
     "data": {
      "text/plain": [
       "[136.34799909591675,\n",
       " 154.4262571334839,\n",
       " 220.8432948589325,\n",
       " 177.96477794647217,\n",
       " 290.3898820877075,\n",
       " 425.7371668815613]"
      ]
     },
     "execution_count": 15,
     "metadata": {},
     "output_type": "execute_result"
    }
   ],
   "source": [
    "time_p"
   ]
  },
  {
   "cell_type": "code",
   "execution_count": 16,
   "id": "under-preservation",
   "metadata": {},
   "outputs": [
    {
     "data": {
      "text/plain": [
       "Text(0.5, 1.0, 'Time')"
      ]
     },
     "execution_count": 16,
     "metadata": {},
     "output_type": "execute_result"
    },
    {
     "data": {
      "image/png": "[encoded data removed]",
      "text/plain": [
       "<Figure size 1440x576 with 3 Axes>"
      ]
     },
     "metadata": {
      "needs_background": "light"
     },
     "output_type": "display_data"
    }
   ],
   "source": [
    "fig, ax = plt.subplots(1, 3, figsize = (20, 8))\n",
    "ax[0].plot(coreset_sizes, fkl_s, label = 'SBFW (Seq)')\n",
    "ax[0].plot(coreset_sizes, fkl_p, label = 'GPCC (SBFW)')\n",
    "ax[0].legend()\n",
    "ax[0].grid()\n",
    "ax[0].set_ylabel('FKL')\n",
    "ax[0].set_xlabel('Coreset Size')\n",
    "ax[0].set_title('FKL')\n",
    "\n",
    "ax[1].plot(coreset_sizes, bkl_s, label = 'SBFW (Seq)')\n",
    "ax[1].plot(coreset_sizes, bkl_p, label = 'GPCC (SBFW)')\n",
    "ax[1].legend()\n",
    "ax[1].grid()\n",
    "ax[1].set_ylabel('BKL')\n",
    "ax[1].set_xlabel('Coreset Size')\n",
    "ax[1].set_title('BKL')\n",
    "\n",
    "ax[2].plot(coreset_sizes, time_s, label = 'SBFW (Seq)')\n",
    "ax[2].plot(coreset_sizes, time_p, label = 'GPCC (SBFW)')\n",
    "ax[2].legend()\n",
    "ax[2].grid()\n",
    "ax[2].set_ylabel('Time (sec)')\n",
    "ax[2].set_xlabel('Coreset Size')\n",
    "ax[2].set_title('Time')"
   ]
  },
  {
   "cell_type": "markdown",
   "id": "50483d15",
   "metadata": {},
   "source": [
    "---"
   ]
  },
  {
   "cell_type": "code",
   "execution_count": 14,
   "id": "0a7ee99d",
   "metadata": {},
   "outputs": [],
   "source": [
    "# IHT\n",
    "coreset_sizes = np.arange(100, 1200, 200)"
   ]
  },
  {
   "cell_type": "code",
   "execution_count": 15,
   "id": "176c094e",
   "metadata": {},
   "outputs": [],
   "source": [
    "def log_likelihood(params, X, y, weights):\n",
    "    mu = params[:d].reshape(-1, 1)\n",
    "    sigma = np.diag(params[d:].reshape(-1, 1)[:, 0])\n",
    "    return np.diag(gaussian_multivariate_log_likelihood(X.T, mu, sigma)).reshape(-1, 1)\n",
    "\n",
    "# https://stats.stackexchange.com/questions/90134/gradient-of-multivariate-gaussian-log-likelihood\n",
    "def grad_log_likelihood(params, X, y, weights):\n",
    "    mu = params[:d].reshape(-1, 1)\n",
    "    sigma = np.diag(params[d:].reshape(-1, 1)[:, 0])\n",
    "    return (-np.linalg.inv(sigma) @ (X.T - mu)).reshape(-1, X.shape[1])\n",
    "\n",
    "def log_posterior(params, X, y, weights):\n",
    "    return weights.T @ log_likelihood(params, X, y, weights)"
   ]
  },
  {
   "cell_type": "code",
   "execution_count": 17,
   "id": "e1ddfd98",
   "metadata": {},
   "outputs": [
    {
     "name": "stdout",
     "output_type": "stream",
     "text": [
      "100\n",
      "300\n",
      "500\n",
      "700\n",
      "900\n",
      "1100\n"
     ]
    }
   ],
   "source": [
    "fkl_s = []\n",
    "bkl_s = []\n",
    "\n",
    "fkl_p = []\n",
    "bkl_p = []\n",
    "\n",
    "time_p = []\n",
    "time_s = []\n",
    "\n",
    "# Generate Data\n",
    "d = 20\n",
    "N = 10000\n",
    "\n",
    "np.random.seed(123)\n",
    "\n",
    "# Theta as in sparse_vi\n",
    "theta = np.random.multivariate_normal(mean = np.zeros(d), cov = np.identity(d))\n",
    "\n",
    "# x as in sparse_vi\n",
    "x = np.random.multivariate_normal(mean = theta, cov = np.identity(d), size = N)\n",
    "\n",
    "# Parameters\n",
    "sigma_0 = np.identity(d)\n",
    "sigma = np.identity(d)\n",
    "mu_0 = np.zeros(d).reshape(-1, 1)\n",
    "\n",
    "# Full Gaussian posterior\n",
    "sigma_full = np.linalg.inv(np.linalg.inv(sigma_0) + N * np.linalg.inv(sigma))\n",
    "mu_full =  sigma_full @ (np.linalg.inv(sigma_0) @ mu_0 + np.linalg.inv(sigma) @ np.sum(x, axis = 0).reshape(-1, 1))        \n",
    "\n",
    "na = {\"log_likelihood\": log_likelihood,\n",
    "      \"log_likelihood_start_value\": np.ones(2 * d),\n",
    "      \"S\": 500,\n",
    "      \"log_likelihood_gradient\": grad_log_likelihood,\n",
    "      \"approx\": \"Laplace\",\n",
    "      \"MCMC_subs_size\": 500,\n",
    "      \"log_posterior\": log_posterior,\n",
    "      \"log_posterior_start_value\": np.ones(2 * d)}\n",
    "\n",
    "for i in coreset_sizes:\n",
    "    \n",
    "    print(i)\n",
    "    \n",
    "    ## Parallel\n",
    "    \n",
    "    start = time.time()\n",
    "    \n",
    "    # Step 1: distribute\n",
    "    full_inds = distribute_randomly(x)\n",
    "    \n",
    "    # Step 2: run IS\n",
    "    w_is = external_parallelization(SensitivityBasedIS, x, i, \"2\", \n",
    "                                 na, full_inds, None, None)\n",
    "    \n",
    "    # Step 3: get smaller dataset\n",
    "    x_new = x[w_is.flatten() != 0]\n",
    "    x_new = x_new.copy()\n",
    "    \n",
    "    # Step 4: run FW on it\n",
    "    iht = IHT(x_new)\n",
    "    w_fw, I_fw = iht.run(k = i, likelihood_vectors = None, norm = \"2\", norm_attributes = na)\n",
    "    \n",
    "    w_is[w_is.flatten() != 0] = w_fw\n",
    "    w = w_is.copy()\n",
    "    \n",
    "    time_p.append(time.time() - start)\n",
    "    \n",
    "    # Calculate posterior approximation\n",
    "    sigma_hat = 1 / (1 + np.sum(w)) * np.identity(d)\n",
    "    mu_hat = sigma_hat @ (mu_0 + x.T @ w)\n",
    "\n",
    "    fkl_p.append(gaussian_KL(sigma_full, sigma_hat, mu_full, mu_hat))\n",
    "    bkl_p.append(gaussian_KL(sigma_hat, sigma_full, mu_hat, mu_full))\n",
    "    \n",
    "    # Sequential\n",
    "    start = time.time()\n",
    "    iht = IHT(x)\n",
    "    w, I = iht.run(k = i, likelihood_vectors = None, norm = \"2\", norm_attributes = na)\n",
    "    time_s.append(time.time() - start)\n",
    "    \n",
    "    # Calculate posterior approximation\n",
    "    sigma_hat = 1 / (1 + np.sum(w)) * np.identity(d)\n",
    "    mu_hat = sigma_hat @ (mu_0 + x.T @ w)\n",
    "\n",
    "    fkl_s.append(gaussian_KL(sigma_full, sigma_hat, mu_full, mu_hat))\n",
    "    bkl_s.append(gaussian_KL(sigma_hat, sigma_full, mu_hat, mu_full))"
   ]
  },
  {
   "cell_type": "code",
   "execution_count": 18,
   "id": "21762a81",
   "metadata": {},
   "outputs": [
    {
     "data": {
      "text/plain": [
       "[4125.314998119884,\n",
       " 25140.230339871952,\n",
       " 12209.968255160638,\n",
       " 9557.85555723329,\n",
       " 1791.2624754884632,\n",
       " 4207.901519554057]"
      ]
     },
     "execution_count": 18,
     "metadata": {},
     "output_type": "execute_result"
    }
   ],
   "source": [
    "fkl_s"
   ]
  },
  {
   "cell_type": "code",
   "execution_count": 19,
   "id": "f3e117aa",
   "metadata": {},
   "outputs": [
    {
     "data": {
      "text/plain": [
       "[418.08062177865276,\n",
       " 1037.8155236953066,\n",
       " 117.97370369115457,\n",
       " 1670.2489706257295,\n",
       " 1946.0261831184055,\n",
       " 3792.3362587901456]"
      ]
     },
     "execution_count": 19,
     "metadata": {},
     "output_type": "execute_result"
    }
   ],
   "source": [
    "fkl_p"
   ]
  },
  {
   "cell_type": "code",
   "execution_count": 20,
   "id": "0cc3f7d6",
   "metadata": {},
   "outputs": [
    {
     "data": {
      "text/plain": [
       "[1974.9216631738745,\n",
       " 695.8843346918634,\n",
       " 546.3602148511176,\n",
       " 289.69093728356233,\n",
       " 169.8459860591425,\n",
       " 169.27880646026742]"
      ]
     },
     "execution_count": 20,
     "metadata": {},
     "output_type": "execute_result"
    }
   ],
   "source": [
    "bkl_s"
   ]
  },
  {
   "cell_type": "code",
   "execution_count": 21,
   "id": "c75a9b85",
   "metadata": {},
   "outputs": [
    {
     "data": {
      "text/plain": [
       "[7421.043977696174,\n",
       " 1648.448800898571,\n",
       " 510.22234906727806,\n",
       " 568.6026692433185,\n",
       " 674.5192525941276,\n",
       " 2998.2635145102386]"
      ]
     },
     "execution_count": 21,
     "metadata": {},
     "output_type": "execute_result"
    }
   ],
   "source": [
    "bkl_p"
   ]
  },
  {
   "cell_type": "code",
   "execution_count": 22,
   "id": "3472c1ba",
   "metadata": {},
   "outputs": [
    {
     "data": {
      "text/plain": [
       "[801.2833070755005,\n",
       " 770.597617149353,\n",
       " 762.344398021698,\n",
       " 791.2468161582947,\n",
       " 766.5263428688049,\n",
       " 767.2705011367798]"
      ]
     },
     "execution_count": 22,
     "metadata": {},
     "output_type": "execute_result"
    }
   ],
   "source": [
    "time_s"
   ]
  },
  {
   "cell_type": "code",
   "execution_count": 23,
   "id": "8b2cde24",
   "metadata": {},
   "outputs": [
    {
     "data": {
      "text/plain": [
       "[129.13546180725098,\n",
       " 159.56878805160522,\n",
       " 222.35200214385986,\n",
       " 180.492901802063,\n",
       " 278.5602231025696,\n",
       " 421.4392638206482]"
      ]
     },
     "execution_count": 23,
     "metadata": {},
     "output_type": "execute_result"
    }
   ],
   "source": [
    "time_p"
   ]
  },
  {
   "cell_type": "code",
   "execution_count": 24,
   "id": "9cf9821c",
   "metadata": {},
   "outputs": [
    {
     "data": {
      "text/plain": [
       "Text(0.5, 1.0, 'Time')"
      ]
     },
     "execution_count": 24,
     "metadata": {},
     "output_type": "execute_result"
    },
    {
     "data": {
      "image/png": "[encoded data removed]",
      "text/plain": [
       "<Figure size 1440x576 with 3 Axes>"
      ]
     },
     "metadata": {
      "needs_background": "light"
     },
     "output_type": "display_data"
    }
   ],
   "source": [
    "fig, ax = plt.subplots(1, 3, figsize = (20, 8))\n",
    "ax[0].plot(coreset_sizes, fkl_s, label = 'SBFW (Seq)')\n",
    "ax[0].plot(coreset_sizes, fkl_p, label = 'GPCC (SBFW)')\n",
    "ax[0].legend()\n",
    "ax[0].grid()\n",
    "ax[0].set_ylabel('FKL')\n",
    "ax[0].set_xlabel('Coreset Size')\n",
    "ax[0].set_title('FKL')\n",
    "\n",
    "ax[1].plot(coreset_sizes, bkl_s, label = 'SBFW (Seq)')\n",
    "ax[1].plot(coreset_sizes, bkl_p, label = 'GPCC (SBFW)')\n",
    "ax[1].legend()\n",
    "ax[1].grid()\n",
    "ax[1].set_ylabel('BKL')\n",
    "ax[1].set_xlabel('Coreset Size')\n",
    "ax[1].set_title('BKL')\n",
    "\n",
    "ax[2].plot(coreset_sizes, time_s, label = 'SBFW (Seq)')\n",
    "ax[2].plot(coreset_sizes, time_p, label = 'GPCC (SBFW)')\n",
    "ax[2].legend()\n",
    "ax[2].grid()\n",
    "ax[2].set_ylabel('Time (sec)')\n",
    "ax[2].set_xlabel('Coreset Size')\n",
    "ax[2].set_title('Time')"
   ]
  },
  {
   "cell_type": "markdown",
   "id": "ab9cd48d",
   "metadata": {},
   "source": [
    "---"
   ]
  },
  {
   "cell_type": "code",
   "execution_count": 7,
   "id": "df2f741f",
   "metadata": {},
   "outputs": [],
   "source": [
    "# GIGA\n",
    "coreset_sizes = np.arange(100, 1200, 200)"
   ]
  },
  {
   "cell_type": "code",
   "execution_count": 8,
   "id": "8b4656e9",
   "metadata": {},
   "outputs": [],
   "source": [
    "def log_likelihood(params, X, y, weights):\n",
    "    mu = params[:d].reshape(-1, 1)\n",
    "    sigma = np.diag(params[d:].reshape(-1, 1)[:, 0])\n",
    "    return np.diag(gaussian_multivariate_log_likelihood(X.T, mu, sigma)).reshape(-1, 1)\n",
    "\n",
    "# https://stats.stackexchange.com/questions/90134/gradient-of-multivariate-gaussian-log-likelihood\n",
    "def grad_log_likelihood(params, X, y, weights):\n",
    "    mu = params[:d].reshape(-1, 1)\n",
    "    sigma = np.diag(params[d:].reshape(-1, 1)[:, 0])\n",
    "    return (-np.linalg.inv(sigma) @ (X.T - mu)).reshape(-1, X.shape[1])\n",
    "\n",
    "def log_posterior(params, X, y, weights):\n",
    "    return weights.T @ log_likelihood(params, X, y, weights)"
   ]
  },
  {
   "cell_type": "code",
   "execution_count": 10,
   "id": "fcdbd98e",
   "metadata": {},
   "outputs": [
    {
     "name": "stdout",
     "output_type": "stream",
     "text": [
      "100\n",
      "300\n",
      "500\n",
      "700\n",
      "900\n",
      "1100\n"
     ]
    }
   ],
   "source": [
    "fkl_s = []\n",
    "bkl_s = []\n",
    "\n",
    "fkl_p = []\n",
    "bkl_p = []\n",
    "\n",
    "time_p = []\n",
    "time_s = []\n",
    "\n",
    "# Generate Data\n",
    "d = 20\n",
    "N = 10000\n",
    "\n",
    "np.random.seed(123)\n",
    "\n",
    "# Theta as in sparse_vi\n",
    "theta = np.random.multivariate_normal(mean = np.zeros(d), cov = np.identity(d))\n",
    "\n",
    "# x as in sparse_vi\n",
    "x = np.random.multivariate_normal(mean = theta, cov = np.identity(d), size = N)\n",
    "\n",
    "# Parameters\n",
    "sigma_0 = np.identity(d)\n",
    "sigma = np.identity(d)\n",
    "mu_0 = np.zeros(d).reshape(-1, 1)\n",
    "\n",
    "# Full Gaussian posterior\n",
    "sigma_full = np.linalg.inv(np.linalg.inv(sigma_0) + N * np.linalg.inv(sigma))\n",
    "mu_full =  sigma_full @ (np.linalg.inv(sigma_0) @ mu_0 + np.linalg.inv(sigma) @ np.sum(x, axis = 0).reshape(-1, 1))        \n",
    "\n",
    "na = {\"log_likelihood\": log_likelihood,\n",
    "      \"log_likelihood_start_value\": np.ones(2 * d),\n",
    "      \"S\": 500,\n",
    "      \"log_likelihood_gradient\": grad_log_likelihood,\n",
    "      \"approx\": \"Laplace\",\n",
    "      \"MCMC_subs_size\": 500,\n",
    "      \"log_posterior\": log_posterior,\n",
    "      \"log_posterior_start_value\": np.ones(2 * d)}\n",
    "\n",
    "for i in coreset_sizes:\n",
    "    \n",
    "    print(i)\n",
    "    \n",
    "    ## Parallel\n",
    "    \n",
    "    start = time.time()\n",
    "    \n",
    "    # Step 1: distribute\n",
    "    full_inds = distribute_randomly(x)\n",
    "    \n",
    "    # Step 2: run IS\n",
    "    w_is = external_parallelization(SensitivityBasedIS, x, i, \"2\", \n",
    "                                 na, full_inds, None, None)\n",
    "    \n",
    "    # Step 3: get smaller dataset\n",
    "    x_new = x[w_is.flatten() != 0]\n",
    "    x_new = x_new.copy()\n",
    "    \n",
    "    # Step 4: run FW on it\n",
    "    iht = GIGA(x_new)\n",
    "    w_fw, I_fw = iht.run(k = i, likelihood_vectors = None, norm = \"2\", norm_attributes = na)\n",
    "    \n",
    "    w_is[w_is.flatten() != 0] = w_fw\n",
    "    w = w_is.copy()\n",
    "    \n",
    "    time_p.append(time.time() - start)\n",
    "    \n",
    "    # Calculate posterior approximation\n",
    "    sigma_hat = 1 / (1 + np.sum(w)) * np.identity(d)\n",
    "    mu_hat = sigma_hat @ (mu_0 + x.T @ w)\n",
    "\n",
    "    fkl_p.append(gaussian_KL(sigma_full, sigma_hat, mu_full, mu_hat))\n",
    "    bkl_p.append(gaussian_KL(sigma_hat, sigma_full, mu_hat, mu_full))\n",
    "    \n",
    "    # Sequential\n",
    "    start = time.time()\n",
    "    iht = GIGA(x)\n",
    "    w, I = iht.run(k = i, likelihood_vectors = None, norm = \"2\", norm_attributes = na)\n",
    "    time_s.append(time.time() - start)\n",
    "    \n",
    "    # Calculate posterior approximation\n",
    "    sigma_hat = 1 / (1 + np.sum(w)) * np.identity(d)\n",
    "    mu_hat = sigma_hat @ (mu_0 + x.T @ w)\n",
    "\n",
    "    fkl_s.append(gaussian_KL(sigma_full, sigma_hat, mu_full, mu_hat))\n",
    "    bkl_s.append(gaussian_KL(sigma_hat, sigma_full, mu_hat, mu_full))"
   ]
  },
  {
   "cell_type": "code",
   "execution_count": 11,
   "id": "b5af0f07",
   "metadata": {},
   "outputs": [
    {
     "data": {
      "text/plain": [
       "[15019.312847713634,\n",
       " 9349.092046072858,\n",
       " 19695.474094253736,\n",
       " 4960.775743698882,\n",
       " 10806.685904243734,\n",
       " 1800.940762539063]"
      ]
     },
     "execution_count": 11,
     "metadata": {},
     "output_type": "execute_result"
    }
   ],
   "source": [
    "fkl_s"
   ]
  },
  {
   "cell_type": "code",
   "execution_count": 12,
   "id": "94ec1946",
   "metadata": {},
   "outputs": [
    {
     "data": {
      "text/plain": [
       "[6214.332730193884,\n",
       " 5071.618652170817,\n",
       " 7439.333104291896,\n",
       " 2515.4855270214753,\n",
       " 5741.078494056078,\n",
       " 892.5161049629744]"
      ]
     },
     "execution_count": 12,
     "metadata": {},
     "output_type": "execute_result"
    }
   ],
   "source": [
    "bkl_s"
   ]
  },
  {
   "cell_type": "code",
   "execution_count": 13,
   "id": "82d3cd20",
   "metadata": {},
   "outputs": [
    {
     "data": {
      "text/plain": [
       "[307.07368347311376,\n",
       " 554.6628449368116,\n",
       " 1129.8972803850186,\n",
       " 2378.160846012451,\n",
       " 4861.735265624688,\n",
       " 2380.5024465784945]"
      ]
     },
     "execution_count": 13,
     "metadata": {},
     "output_type": "execute_result"
    }
   ],
   "source": [
    "fkl_p"
   ]
  },
  {
   "cell_type": "code",
   "execution_count": 14,
   "id": "f4da94a1",
   "metadata": {},
   "outputs": [
    {
     "data": {
      "text/plain": [
       "[2032.1653278099975,\n",
       " 1796.4380922919297,\n",
       " 1778.2857905333353,\n",
       " 5195.908599099552,\n",
       " 5577.778552544496,\n",
       " 3048.672726232473]"
      ]
     },
     "execution_count": 14,
     "metadata": {},
     "output_type": "execute_result"
    }
   ],
   "source": [
    "bkl_p"
   ]
  },
  {
   "cell_type": "code",
   "execution_count": 15,
   "id": "ba5a2bbc",
   "metadata": {},
   "outputs": [
    {
     "data": {
      "text/plain": [
       "[780.6731178760529,\n",
       " 791.5978820323944,\n",
       " 762.6630041599274,\n",
       " 759.4191091060638,\n",
       " 769.6101410388947,\n",
       " 791.2607810497284]"
      ]
     },
     "execution_count": 15,
     "metadata": {},
     "output_type": "execute_result"
    }
   ],
   "source": [
    "time_s"
   ]
  },
  {
   "cell_type": "code",
   "execution_count": 16,
   "id": "09b80235",
   "metadata": {},
   "outputs": [
    {
     "data": {
      "text/plain": [
       "[155.72611904144287,\n",
       " 179.8381221294403,\n",
       " 304.62717604637146,\n",
       " 182.51288676261902,\n",
       " 287.36264395713806,\n",
       " 406.80592823028564]"
      ]
     },
     "execution_count": 16,
     "metadata": {},
     "output_type": "execute_result"
    }
   ],
   "source": [
    "time_p"
   ]
  },
  {
   "cell_type": "code",
   "execution_count": null,
   "id": "ac17141a",
   "metadata": {},
   "outputs": [],
   "source": [
    "# "
   ]
  },
  {
   "cell_type": "markdown",
   "id": "drawn-delta",
   "metadata": {},
   "source": [
    "## 3. Gaussian Regression"
   ]
  },
  {
   "cell_type": "code",
   "execution_count": 8,
   "id": "521701a6",
   "metadata": {},
   "outputs": [],
   "source": [
    "coreset_sizes = np.arange(50, 301, 50)"
   ]
  },
  {
   "cell_type": "code",
   "execution_count": 9,
   "id": "residential-template",
   "metadata": {},
   "outputs": [],
   "source": [
    "def log_likelihood(params, X, y, weights):\n",
    "    N, d = X.shape\n",
    "    beta = params.reshape(-1, 1)\n",
    "    sigma = np.identity(N)\n",
    "    \n",
    "    return np.diag(gaussian_multivariate_log_likelihood(y, X @ beta, sigma)).reshape(-1, 1)\n",
    "\n",
    "# https://stats.stackexchange.com/questions/90134/gradient-of-multivariate-gaussian-log-likelihood\n",
    "def grad_log_likelihood(params, X, y, weights):\n",
    "    N, d = X.shape\n",
    "    sigma = 1e-4 * np.identity(N)\n",
    "    beta = params.reshape(-1, 1)\n",
    "    \n",
    "    return (-np.linalg.inv(sigma) @ (y - X @ beta)).reshape(-1, X.shape[1])\n",
    "\n",
    "def log_posterior(params, X, y, weights):\n",
    "    return weights.T @ log_likelihood(params, X, y, weights)"
   ]
  },
  {
   "cell_type": "code",
   "execution_count": 10,
   "id": "resistant-sullivan",
   "metadata": {},
   "outputs": [
    {
     "name": "stdout",
     "output_type": "stream",
     "text": [
      "50\n",
      "100\n",
      "150\n",
      "200\n",
      "250\n",
      "300\n"
     ]
    }
   ],
   "source": [
    "seeds = [123]\n",
    "\n",
    "for seed in seeds:\n",
    "    # Generate Data\n",
    "    d = 20\n",
    "    N = 1000\n",
    "\n",
    "    np.random.seed(seed)\n",
    "\n",
    "    # x as in sparse_vi\n",
    "    cov = np.identity(d) * 3\n",
    "    cov[cov == 0] = 1\n",
    "    x = np.random.multivariate_normal(mean = np.zeros(d), cov = cov, size = N)\n",
    "\n",
    "    # as in svi\n",
    "    mu_0 = np.zeros(d).reshape(-1, 1)\n",
    "    sigma_0 = np.identity(d)\n",
    "    #beta = np.random.multivariate_normal(mu_0.flatten(), sigma_0).reshape(-1, 1)\n",
    "    beta = np.random.randint(3, 10, size = d).reshape(-1, 1)\n",
    "\n",
    "    # y\n",
    "    sigma = 1\n",
    "    y = x @ beta + np.random.normal(0, sigma, (N, 1))\n",
    "\n",
    "    # Full  posterior\n",
    "    sigma_full = np.linalg.inv(np.linalg.inv(sigma_0) + 1 / sigma ** 2 * x.T @ x)\n",
    "    mu_full =  sigma_full @ (np.linalg.inv(sigma_0) @ mu_0 + 1 / sigma ** 2 * np.sum(y * x, axis = 0).reshape(-1, 1))        \n",
    "\n",
    "    fkl_s = []\n",
    "    bkl_s = []\n",
    "\n",
    "    fkl_p = []\n",
    "    bkl_p = []\n",
    "\n",
    "    time_p = []\n",
    "    time_s = []\n",
    "\n",
    "    na = {\"log_likelihood\": log_likelihood,\n",
    "          \"log_likelihood_start_value\": np.ones(d),\n",
    "          \"S\": 500,\n",
    "          \"log_likelihood_gradient\": grad_log_likelihood,\n",
    "          \"approx\": \"Laplace\",\n",
    "          \"MCMC_subs_size\": 500,\n",
    "          \"log_posterior\": log_posterior,\n",
    "          \"log_posterior_start_value\": np.ones(d)}\n",
    "    j = 0\n",
    "    for i in coreset_sizes:\n",
    "        \n",
    "        print(i)\n",
    "    \n",
    "        ## Parallel\n",
    "\n",
    "        start = time.time()\n",
    "\n",
    "        # Step 1: distribute\n",
    "        full_inds = distribute_randomly(x)\n",
    "\n",
    "        # Step 2: run IS\n",
    "        w_is = external_parallelization(SensitivityBasedIS, x, i, \"2\", \n",
    "                                     na, full_inds, None, y)\n",
    "\n",
    "        # Step 3: get smaller dataset\n",
    "        x_new = x[w_is.flatten() != 0]\n",
    "        x_new = x_new.copy()\n",
    "        y_new = y[w_is.flatten() != 0]\n",
    "        y_new = y_new.copy()\n",
    "\n",
    "        # Step 4: run FW on it\n",
    "        sbfw = SensitivityBasedFW(x_new, y_new)\n",
    "        w_fw, I_fw = sbfw.run(k = i, likelihood_gram_matrix = None, norm = \"2\", norm_attributes = na)\n",
    "\n",
    "        w_is[w_is.flatten() != 0] = w_fw\n",
    "        w = w_is.copy()\n",
    "\n",
    "        time_p.append(time.time() - start)\n",
    "    \n",
    "        # Calculate posterior approximation\n",
    "        sigma_hat = 1 / (1 + np.sum(w)) * np.identity(d)\n",
    "        mu_hat = sigma_hat @ (mu_0 + x.T @ w)\n",
    "\n",
    "        fkl_p.append(gaussian_KL(sigma_full, sigma_hat, mu_full, mu_hat))\n",
    "        bkl_p.append(gaussian_KL(sigma_hat, sigma_full, mu_hat, mu_full))\n",
    "        \n",
    "        # Sequential\n",
    "        start = time.time()\n",
    "        sbfw = SensitivityBasedFW(x, y)\n",
    "        w, I = sbfw.run(k = i, likelihood_gram_matrix = None, norm = \"2\", norm_attributes = na)\n",
    "        time_s.append(time.time() - start)\n",
    "\n",
    "        # Calculate posterior approximation\n",
    "        sigma_hat = 1 / (1 + np.sum(w)) * np.identity(d)\n",
    "        mu_hat = sigma_hat @ (mu_0 + x.T @ w)\n",
    "\n",
    "        fkl_s.append(gaussian_KL(sigma_full, sigma_hat, mu_full, mu_hat))\n",
    "        bkl_s.append(gaussian_KL(sigma_hat, sigma_full, mu_hat, mu_full))"
   ]
  },
  {
   "cell_type": "code",
   "execution_count": 11,
   "id": "11cab044",
   "metadata": {},
   "outputs": [
    {
     "data": {
      "text/plain": [
       "[3817947.9457916426,\n",
       " 635688.230445658,\n",
       " 275824.98663851153,\n",
       " 5370198.094718323,\n",
       " 275824.96765141666,\n",
       " 275824.98554350546]"
      ]
     },
     "execution_count": 11,
     "metadata": {},
     "output_type": "execute_result"
    }
   ],
   "source": [
    "fkl_s"
   ]
  },
  {
   "cell_type": "code",
   "execution_count": 12,
   "id": "a56aef02",
   "metadata": {},
   "outputs": [
    {
     "data": {
      "text/plain": [
       "[190651.30741271665,\n",
       " 125407.8916387485,\n",
       " 323100.34765373747,\n",
       " 203095.06918820116,\n",
       " 216318.61398006088,\n",
       " 362531.43233654596]"
      ]
     },
     "execution_count": 12,
     "metadata": {},
     "output_type": "execute_result"
    }
   ],
   "source": [
    "fkl_p"
   ]
  },
  {
   "cell_type": "code",
   "execution_count": 13,
   "id": "55c7c6b5",
   "metadata": {},
   "outputs": [
    {
     "data": {
      "text/plain": [
       "[63501654.35056317,\n",
       " 1364203.6218052418,\n",
       " 5014345.790720085,\n",
       " 18888276.065460183,\n",
       " 5014345.790877378,\n",
       " 5014345.790729156]"
      ]
     },
     "execution_count": 13,
     "metadata": {},
     "output_type": "execute_result"
    }
   ],
   "source": [
    "bkl_s"
   ]
  },
  {
   "cell_type": "code",
   "execution_count": 14,
   "id": "76855b74",
   "metadata": {},
   "outputs": [
    {
     "data": {
      "text/plain": [
       "[13141749.572469184,\n",
       " 5017091.829825173,\n",
       " 9797069.641232023,\n",
       " 5015164.690825948,\n",
       " 5014974.7443423765,\n",
       " 892871.3891779729]"
      ]
     },
     "execution_count": 14,
     "metadata": {},
     "output_type": "execute_result"
    }
   ],
   "source": [
    "bkl_p"
   ]
  },
  {
   "cell_type": "code",
   "execution_count": 15,
   "id": "e2f2a961",
   "metadata": {},
   "outputs": [
    {
     "data": {
      "text/plain": [
       "[123.36078095436096,\n",
       " 114.1274995803833,\n",
       " 111.83005213737488,\n",
       " 116.71299481391907,\n",
       " 114.38440823554993,\n",
       " 117.98503398895264]"
      ]
     },
     "execution_count": 15,
     "metadata": {},
     "output_type": "execute_result"
    }
   ],
   "source": [
    "time_s"
   ]
  },
  {
   "cell_type": "code",
   "execution_count": 16,
   "id": "b7df7f29",
   "metadata": {},
   "outputs": [
    {
     "data": {
      "text/plain": [
       "[19.24512004852295,\n",
       " 37.70613193511963,\n",
       " 46.82135081291199,\n",
       " 68.98072600364685,\n",
       " 70.3929750919342,\n",
       " 112.21016693115234]"
      ]
     },
     "execution_count": 16,
     "metadata": {},
     "output_type": "execute_result"
    }
   ],
   "source": [
    "time_p"
   ]
  },
  {
   "cell_type": "code",
   "execution_count": 17,
   "id": "d3e18350",
   "metadata": {},
   "outputs": [
    {
     "data": {
      "text/plain": [
       "Text(0.5, 1.0, 'Time')"
      ]
     },
     "execution_count": 17,
     "metadata": {},
     "output_type": "execute_result"
    },
    {
     "data": {
      "image/png": "[encoded data removed]",
      "text/plain": [
       "<Figure size 1440x576 with 3 Axes>"
      ]
     },
     "metadata": {
      "needs_background": "light"
     },
     "output_type": "display_data"
    }
   ],
   "source": [
    "fig, ax = plt.subplots(1, 3, figsize = (20, 8))\n",
    "ax[0].plot(coreset_sizes, fkl_s, label = 'SBFW (Seq)')\n",
    "ax[0].plot(coreset_sizes, fkl_p, label = 'GPCC (SBFW)')\n",
    "ax[0].legend()\n",
    "ax[0].grid()\n",
    "ax[0].set_ylabel('FKL')\n",
    "ax[0].set_xlabel('Coreset Size')\n",
    "ax[0].set_title('FKL')\n",
    "\n",
    "ax[1].plot(coreset_sizes, bkl_s, label = 'SBFW (Seq)')\n",
    "ax[1].plot(coreset_sizes, bkl_p, label = 'GPCC (SBFW)')\n",
    "ax[1].legend()\n",
    "ax[1].grid()\n",
    "ax[1].set_ylabel('BKL')\n",
    "ax[1].set_xlabel('Coreset Size')\n",
    "ax[1].set_title('BKL')\n",
    "\n",
    "ax[2].plot(coreset_sizes, time_s, label = 'SBFW (Seq)')\n",
    "ax[2].plot(coreset_sizes, time_p, label = 'GPCC (SBFW)')\n",
    "ax[2].legend()\n",
    "ax[2].grid()\n",
    "ax[2].set_ylabel('Time (sec)')\n",
    "ax[2].set_xlabel('Coreset Size')\n",
    "ax[2].set_title('Time')"
   ]
  },
  {
   "cell_type": "markdown",
   "id": "logical-tragedy",
   "metadata": {},
   "source": [
    "## 4. Regression on Real Dataset"
   ]
  },
  {
   "cell_type": "code",
   "execution_count": 32,
   "id": "ambient-possession",
   "metadata": {},
   "outputs": [
    {
     "data": {
      "text/plain": [
       "(506, 13)"
      ]
     },
     "execution_count": 32,
     "metadata": {},
     "output_type": "execute_result"
    }
   ],
   "source": [
    "from sklearn.datasets import load_boston\n",
    "X = load_boston()['data']\n",
    "y = load_boston()['target']\n",
    "X.shape"
   ]
  },
  {
   "cell_type": "code",
   "execution_count": 15,
   "id": "above-crazy",
   "metadata": {},
   "outputs": [],
   "source": [
    "def log_likelihood(params, X, y, weights):\n",
    "    N, d = X.shape\n",
    "    beta = params.reshape(-1, 1)\n",
    "    sigma = np.identity(N)\n",
    "    \n",
    "    return np.diag(gaussian_multivariate_log_likelihood(y, X @ beta, sigma)).reshape(-1, 1)\n",
    "\n",
    "# https://stats.stackexchange.com/questions/90134/gradient-of-multivariate-gaussian-log-likelihood\n",
    "def grad_log_likelihood(params, X, y, weights):\n",
    "    N, d = X.shape\n",
    "    sigma = 1e-4 * np.identity(N)\n",
    "    beta = params.reshape(-1, 1)\n",
    "    \n",
    "    return (-np.linalg.inv(sigma) @ (y - X @ beta)).reshape(-1, X.shape[1])\n",
    "\n",
    "def log_posterior(params, X, y, weights):\n",
    "    return weights.T @ log_likelihood(params, X, y, weights)"
   ]
  },
  {
   "cell_type": "code",
   "execution_count": 16,
   "id": "accredited-physiology",
   "metadata": {},
   "outputs": [],
   "source": [
    "from sklearn.datasets import load_boston\n",
    "X = load_boston()['data']\n",
    "y = load_boston()['target']\n",
    "\n",
    "from sklearn.linear_model import LinearRegression\n",
    "from sklearn.metrics import mean_absolute_error\n",
    "\n",
    "lr = LinearRegression()\n",
    "ref = lr.fit(X, y).predict(X)"
   ]
  },
  {
   "cell_type": "code",
   "execution_count": 17,
   "id": "40c4f8f8",
   "metadata": {},
   "outputs": [],
   "source": [
    "coreset_sizes = np.arange(10, 61, 10)"
   ]
  },
  {
   "cell_type": "code",
   "execution_count": 18,
   "id": "commercial-melbourne",
   "metadata": {},
   "outputs": [
    {
     "name": "stdout",
     "output_type": "stream",
     "text": [
      "10\n",
      "20\n",
      "30\n",
      "40\n",
      "50\n",
      "60\n"
     ]
    }
   ],
   "source": [
    "seeds = [123]\n",
    "\n",
    "for seed in seeds:\n",
    "    N, d = X.shape\n",
    "\n",
    "    np.random.seed(seed)  \n",
    "    \n",
    "    maes_s = []\n",
    "    maes_p = []\n",
    "\n",
    "    time_p = []\n",
    "    time_s = []\n",
    "    \n",
    "    na = {\"log_likelihood\": log_likelihood,\n",
    "      \"log_likelihood_start_value\": np.ones(d),\n",
    "      \"S\": 500,\n",
    "      \"log_likelihood_gradient\": grad_log_likelihood,\n",
    "      \"approx\": \"Laplace\",\n",
    "      \"MCMC_subs_size\": 500,\n",
    "      \"log_posterior\": log_posterior,\n",
    "      \"log_posterior_start_value\": np.ones(d)}\n",
    "\n",
    "    for i in coreset_sizes:\n",
    "        \n",
    "        x = X.copy()\n",
    "        y = y.reshape(-1, 1)\n",
    "        \n",
    "        print(i)\n",
    "    \n",
    "        ## Parallel\n",
    "\n",
    "        start = time.time()\n",
    "\n",
    "        # Step 1: distribute\n",
    "        full_inds = distribute_randomly(x)\n",
    "\n",
    "        # Step 2: run IS\n",
    "        w_is = external_parallelization(SensitivityBasedIS, x, i, \"2\", \n",
    "                                     na, full_inds, None, y)\n",
    "\n",
    "        # Step 3: get smaller dataset\n",
    "        x_new = x[w_is.flatten() != 0]\n",
    "        x_new = x_new.copy()\n",
    "        y_new = y[w_is.flatten() != 0]\n",
    "        y_new = y_new.copy()\n",
    "\n",
    "        # Step 4: run FW on it\n",
    "        sbfw = SensitivityBasedFW(x_new, y_new)\n",
    "        w_fw, I_fw = sbfw.run(k = i, likelihood_gram_matrix = None, norm = \"2\", norm_attributes = na)\n",
    "\n",
    "        w_is[w_is.flatten() != 0] = w_fw\n",
    "        w = w_is.copy()\n",
    "\n",
    "        time_p.append(time.time() - start)\n",
    "        \n",
    "        lr = LinearRegression()\n",
    "        pred_p = lr.fit(X * w, y).predict(X)\n",
    "        \n",
    "        # Sequential\n",
    "        start = time.time()\n",
    "        sbfw = SensitivityBasedFW(x, y)\n",
    "        w, I = sbfw.run(k = i, likelihood_gram_matrix = None, norm = \"2\", norm_attributes = na)\n",
    "        time_s.append(time.time() - start)\n",
    "        \n",
    "        pred_s = lr.fit(X * w, y).predict(X)\n",
    "        \n",
    "        mae_s = mean_absolute_error(ref, pred_s)\n",
    "        mae_p = mean_absolute_error(ref, pred_p)\n",
    "        \n",
    "        maes_s.append(mae_s)\n",
    "        maes_p.append(mae_p)"
   ]
  },
  {
   "cell_type": "code",
   "execution_count": 19,
   "id": "aee30039",
   "metadata": {},
   "outputs": [
    {
     "name": "stdout",
     "output_type": "stream",
     "text": [
      "[6.19662314015153, 1347497956500.1152, 6.195934700270165, 6.196623140232768, 5229108350107.463, 6.196623140295206] [2334533407020.46, 54289799125.41233, 2707155061358.002, 3350393518881.3804, 1045530775975.2806, 12682.649908729722] [10.216175079345703, 9.570101976394653, 11.285329818725586, 10.544034004211426, 10.515321016311646, 11.160501956939697] [2.7568118572235107, 3.010902166366577, 3.671027898788452, 3.693352222442627, 4.501672267913818, 8.422565937042236]\n"
     ]
    }
   ],
   "source": [
    "print(maes_s, maes_p, time_s, time_p)"
   ]
  },
  {
   "cell_type": "code",
   "execution_count": 20,
   "id": "65859bdd",
   "metadata": {},
   "outputs": [
    {
     "data": {
      "text/plain": [
       "Text(0.5, 1.0, 'Time')"
      ]
     },
     "execution_count": 20,
     "metadata": {},
     "output_type": "execute_result"
    },
    {
     "data": {
      "image/png": "[encoded data removed]",
      "text/plain": [
       "<Figure size 1440x576 with 2 Axes>"
      ]
     },
     "metadata": {
      "needs_background": "light"
     },
     "output_type": "display_data"
    }
   ],
   "source": [
    "fig, ax = plt.subplots(1, 2, figsize = (20, 8))\n",
    "ax[0].plot(coreset_sizes, maes_s, label = 'SBFW (Seq)')\n",
    "ax[0].plot(coreset_sizes, maes_p, label = 'GPCC (SBFW)')\n",
    "ax[0].legend()\n",
    "ax[0].grid()\n",
    "ax[0].set_ylabel('MAE')\n",
    "ax[0].set_xlabel('Coreset Size')\n",
    "ax[0].set_title('MAE')\n",
    "\n",
    "ax[1].plot(coreset_sizes, time_s, label = 'SBFW (Seq)')\n",
    "ax[1].plot(coreset_sizes, time_p, label = 'GPCC (SBFW)')\n",
    "ax[1].legend()\n",
    "ax[1].grid()\n",
    "ax[1].set_ylabel('Time (sec)')\n",
    "ax[1].set_xlabel('Coreset Size')\n",
    "ax[1].set_title('Time')"
   ]
  },
  {
   "cell_type": "markdown",
   "id": "floppy-sympathy",
   "metadata": {},
   "source": [
    "## 5. Images"
   ]
  },
  {
   "cell_type": "code",
   "execution_count": 7,
   "id": "square-administrator",
   "metadata": {},
   "outputs": [
    {
     "data": {
      "text/plain": [
       "(1797,)"
      ]
     },
     "execution_count": 7,
     "metadata": {},
     "output_type": "execute_result"
    }
   ],
   "source": [
    "from sklearn.datasets import load_digits\n",
    "X = load_digits()['data']\n",
    "y_labels = load_digits()['target']\n",
    "y_labels.shape"
   ]
  },
  {
   "cell_type": "code",
   "execution_count": 8,
   "id": "accurate-calculation",
   "metadata": {},
   "outputs": [],
   "source": [
    "def log_likelihood(params, X, y, weights):\n",
    "    N, d = X.shape\n",
    "    c = y.shape[1]\n",
    "    w = params.reshape(d, c)\n",
    "    preds = X @ w\n",
    "    probs = np.exp(preds - np.max(preds, axis = 1, keepdims = True))\n",
    "    probs = probs / np.sum(probs, axis = 1, keepdims = True)\n",
    "    probs[probs == 0] = 1e-10\n",
    "    ll = np.sum(y * np.log(probs), axis = 1)\n",
    "    return ll.reshape(-1, 1)\n",
    "\n",
    "# https://stats.stackexchange.com/questions/90134/gradient-of-multivariate-gaussian-log-likelihood\n",
    "def grad_log_likelihood(params, X, y, weights):\n",
    "    mu = params[:d].reshape(-1, 1)\n",
    "    sigma = np.diag(params[d:].reshape(-1, 1)[:, 0])\n",
    "    return (-np.linalg.inv(sigma) @ (X.T - mu)).reshape(-1, X.shape[1])\n",
    "\n",
    "def log_posterior(params, X, y, weights):\n",
    "    return weights.T @ log_likelihood(params, X, y, weights)"
   ]
  },
  {
   "cell_type": "code",
   "execution_count": 9,
   "id": "acknowledged-satellite",
   "metadata": {},
   "outputs": [],
   "source": [
    "# https://github.com/izmailovpavel/neurips_bdl_starter_kit/blob/main/metrics.py\n",
    "import scipy\n",
    "\n",
    "def total_variation_distance(reference: np.array, predictions: np.array):\n",
    "    \"\"\"Returns total variation distance.\"\"\"\n",
    "    return np.abs(predictions - reference).sum(axis=-1).mean() / 2.\n",
    "\n",
    "\n",
    "def w2_distance(reference: np.array, predictions: np.array):\n",
    "    \"\"\"Returns W-2 distance \"\"\"\n",
    "    assert predictions.shape[0] == reference.shape[0], \"wrong predictions shape\"\n",
    "    return -np.mean([scipy.stats.wasserstein_distance(pred, ref) for \n",
    "                   pred, ref in zip(predictions, reference)])"
   ]
  },
  {
   "cell_type": "code",
   "execution_count": 10,
   "id": "unusual-latino",
   "metadata": {},
   "outputs": [
    {
     "name": "stderr",
     "output_type": "stream",
     "text": [
      "/opt/anaconda3/lib/python3.8/site-packages/sklearn/linear_model/_logistic.py:814: ConvergenceWarning: lbfgs failed to converge (status=1):\n",
      "STOP: TOTAL NO. of ITERATIONS REACHED LIMIT.\n",
      "\n",
      "Increase the number of iterations (max_iter) or scale the data as shown in:\n",
      "    https://scikit-learn.org/stable/modules/preprocessing.html\n",
      "Please also refer to the documentation for alternative solver options:\n",
      "    https://scikit-learn.org/stable/modules/linear_model.html#logistic-regression\n",
      "  n_iter_i = _check_optimize_result(\n"
     ]
    }
   ],
   "source": [
    "from sklearn.datasets import load_digits\n",
    "X = load_digits()['data']\n",
    "y_labels = load_digits()['target']\n",
    "\n",
    "from sklearn.linear_model import LogisticRegression\n",
    "\n",
    "lr = LogisticRegression()\n",
    "ref = lr.fit(X, y_labels).predict(X)\n",
    "\n",
    "from sklearn.preprocessing import LabelBinarizer\n",
    "lb = LabelBinarizer()\n",
    "y = lb.fit_transform(y_labels)"
   ]
  },
  {
   "cell_type": "code",
   "execution_count": 11,
   "id": "e691cfca",
   "metadata": {},
   "outputs": [],
   "source": [
    "coreset_sizes = np.arange(10, 201, 50)"
   ]
  },
  {
   "cell_type": "code",
   "execution_count": 12,
   "id": "organizational-recording",
   "metadata": {},
   "outputs": [
    {
     "name": "stdout",
     "output_type": "stream",
     "text": [
      "10\n"
     ]
    },
    {
     "name": "stderr",
     "output_type": "stream",
     "text": [
      "/Users/vladimiromelyusik/efficient_bayesian_coresets/ebc/approximations.py:72: RuntimeWarning: covariance is not positive-semidefinite.\n",
      "  samples = np.random.multivariate_normal(mu_approx, sigma_approx, S) # S x (#mu + #sigma)\n"
     ]
    },
    {
     "name": "stdout",
     "output_type": "stream",
     "text": [
      "60\n"
     ]
    },
    {
     "name": "stderr",
     "output_type": "stream",
     "text": [
      "/Users/vladimiromelyusik/efficient_bayesian_coresets/ebc/approximations.py:72: RuntimeWarning: covariance is not positive-semidefinite.\n",
      "  samples = np.random.multivariate_normal(mu_approx, sigma_approx, S) # S x (#mu + #sigma)\n"
     ]
    },
    {
     "name": "stdout",
     "output_type": "stream",
     "text": [
      "110\n"
     ]
    },
    {
     "name": "stderr",
     "output_type": "stream",
     "text": [
      "/Users/vladimiromelyusik/efficient_bayesian_coresets/ebc/approximations.py:72: RuntimeWarning: covariance is not positive-semidefinite.\n",
      "  samples = np.random.multivariate_normal(mu_approx, sigma_approx, S) # S x (#mu + #sigma)\n"
     ]
    },
    {
     "name": "stdout",
     "output_type": "stream",
     "text": [
      "160\n"
     ]
    },
    {
     "name": "stderr",
     "output_type": "stream",
     "text": [
      "/opt/anaconda3/lib/python3.8/site-packages/sklearn/linear_model/_logistic.py:814: ConvergenceWarning: lbfgs failed to converge (status=1):\n",
      "STOP: TOTAL NO. of ITERATIONS REACHED LIMIT.\n",
      "\n",
      "Increase the number of iterations (max_iter) or scale the data as shown in:\n",
      "    https://scikit-learn.org/stable/modules/preprocessing.html\n",
      "Please also refer to the documentation for alternative solver options:\n",
      "    https://scikit-learn.org/stable/modules/linear_model.html#logistic-regression\n",
      "  n_iter_i = _check_optimize_result(\n",
      "/Users/vladimiromelyusik/efficient_bayesian_coresets/ebc/approximations.py:72: RuntimeWarning: covariance is not positive-semidefinite.\n",
      "  samples = np.random.multivariate_normal(mu_approx, sigma_approx, S) # S x (#mu + #sigma)\n",
      "/opt/anaconda3/lib/python3.8/site-packages/sklearn/linear_model/_logistic.py:814: ConvergenceWarning: lbfgs failed to converge (status=1):\n",
      "STOP: TOTAL NO. of ITERATIONS REACHED LIMIT.\n",
      "\n",
      "Increase the number of iterations (max_iter) or scale the data as shown in:\n",
      "    https://scikit-learn.org/stable/modules/preprocessing.html\n",
      "Please also refer to the documentation for alternative solver options:\n",
      "    https://scikit-learn.org/stable/modules/linear_model.html#logistic-regression\n",
      "  n_iter_i = _check_optimize_result(\n"
     ]
    }
   ],
   "source": [
    "seeds = [123]\n",
    "\n",
    "for seed in seeds:\n",
    "    \n",
    "    N, d = X.shape\n",
    "\n",
    "    np.random.seed(seed)\n",
    "    \n",
    "    tvs_s = []\n",
    "    tvs_p = []\n",
    "    time_s = []\n",
    "    time_p = []\n",
    "\n",
    "    na = {\"log_likelihood\": log_likelihood,\n",
    "          \"log_likelihood_start_value\": np.zeros(X.shape[1] * y.shape[1]).reshape(-1, 1),\n",
    "          \"S\": 500,\n",
    "          \"log_likelihood_gradient\": grad_log_likelihood,\n",
    "          \"approx\": \"Laplace\",\n",
    "          \"MCMC_subs_size\": 1000,\n",
    "          \"log_posterior\": log_posterior,\n",
    "          \"log_posterior_start_value\": np.zeros(X.shape[1] * y.shape[1]).reshape(-1, 1)}\n",
    "    \n",
    "    j = 0\n",
    "    for i in coreset_sizes:\n",
    "        \n",
    "        x = X.copy()\n",
    "        y = y.copy()\n",
    "        \n",
    "        print(i)\n",
    "    \n",
    "        ## Parallel\n",
    "\n",
    "        start = time.time()\n",
    "\n",
    "        # Step 1: distribute\n",
    "        full_inds = distribute_randomly(x)\n",
    "\n",
    "        # Step 2: run IS\n",
    "        w_is = external_parallelization(SensitivityBasedIS, x, i, \"2\", na, full_inds, None, y)\n",
    "\n",
    "        # Step 3: get smaller dataset\n",
    "        x_new = x[w_is.flatten() != 0]\n",
    "        x_new = x_new.copy()\n",
    "        y_new = y[w_is.flatten() != 0]\n",
    "        y_new = y_new.copy()\n",
    "\n",
    "        # Step 4: run FW on it\n",
    "        sbfw = SensitivityBasedFW(x_new, y_new)\n",
    "        w_fw, I_fw = sbfw.run(k = i, likelihood_gram_matrix = None, norm = \"2\", norm_attributes = na)\n",
    "\n",
    "        w_is[w_is.flatten() != 0] = w_fw\n",
    "        w = w_is.copy()\n",
    "\n",
    "        time_p.append(time.time() - start)\n",
    "        \n",
    "        lr = LogisticRegression()\n",
    "        pred_p = lr.fit(X * w, y_labels).predict(X)\n",
    "        \n",
    "        # Sequential\n",
    "        start = time.time()\n",
    "        sbfw = SensitivityBasedFW(x, y)\n",
    "        w, I = sbfw.run(k = i, likelihood_gram_matrix = None, norm = \"2\", norm_attributes = na)\n",
    "        time_s.append(time.time() - start)\n",
    "        \n",
    "        pred_s = lr.fit(X * w, y_labels).predict(X)\n",
    "        \n",
    "        tvs_s.append(total_variation_distance(ref, pred_s))\n",
    "        tvs_p.append(total_variation_distance(ref, pred_p))"
   ]
  },
  {
   "cell_type": "code",
   "execution_count": 13,
   "id": "about-repair",
   "metadata": {},
   "outputs": [
    {
     "name": "stdout",
     "output_type": "stream",
     "text": [
      "[3097.0, 2075.5, 1429.0, 1437.0] [2699.0, 938.0, 522.5, 392.0] [77.37794208526611, 78.96379208564758, 83.03110194206238, 80.48514938354492] [101.79196906089783, 113.66844487190247, 124.61924409866333, 141.19095587730408]\n"
     ]
    }
   ],
   "source": [
    "print(tvs_s, tvs_p, time_s, time_p)"
   ]
  },
  {
   "cell_type": "code",
   "execution_count": 14,
   "id": "56baf655",
   "metadata": {},
   "outputs": [
    {
     "data": {
      "text/plain": [
       "Text(0.5, 1.0, 'Time')"
      ]
     },
     "execution_count": 14,
     "metadata": {},
     "output_type": "execute_result"
    },
    {
     "data": {
      "image/png": "[encoded data removed]",
      "text/plain": [
       "<Figure size 1440x576 with 2 Axes>"
      ]
     },
     "metadata": {
      "needs_background": "light"
     },
     "output_type": "display_data"
    }
   ],
   "source": [
    "fig, ax = plt.subplots(1, 2, figsize = (20, 8))\n",
    "ax[0].plot(coreset_sizes, tvs_s, label = 'SBFW (Seq)')\n",
    "ax[0].plot(coreset_sizes, tvs_p, label = 'GPCC (SBFW)')\n",
    "ax[0].legend()\n",
    "ax[0].grid()\n",
    "ax[0].set_ylabel('TVD')\n",
    "ax[0].set_xlabel('Coreset Size')\n",
    "ax[0].set_title('TVD')\n",
    "\n",
    "ax[1].plot(coreset_sizes, time_s, label = 'SBFW (Seq)')\n",
    "ax[1].plot(coreset_sizes, time_p, label = 'GPCC (SBFW)')\n",
    "ax[1].legend()\n",
    "ax[1].grid()\n",
    "ax[1].set_ylabel('Time (sec)')\n",
    "ax[1].set_xlabel('Coreset Size')\n",
    "ax[1].set_title('Time')"
   ]
  },
  {
   "cell_type": "code",
   "execution_count": null,
   "id": "6652c6e3",
   "metadata": {},
   "outputs": [],
   "source": []
  },
  {
   "cell_type": "markdown",
   "id": "4e44cc13",
   "metadata": {},
   "source": [
    "## Tiny Imagenet"
   ]
  },
  {
   "cell_type": "code",
   "execution_count": null,
   "id": "6e940b3e",
   "metadata": {},
   "outputs": [],
   "source": [
    "# https://towardsdatascience.com/pytorch-ignite-classifying-tiny-imagenet-with-efficientnet-e5b1768e5e8f#4195"
   ]
  },
  {
   "cell_type": "code",
   "execution_count": 34,
   "id": "bd38c4c5",
   "metadata": {},
   "outputs": [],
   "source": [
    "# Import libraries\n",
    "from datetime import datetime as dt\n",
    "\n",
    "import torch\n",
    "from torch import optim, nn\n",
    "from torch.utils.data import DataLoader, TensorDataset, Dataset\n",
    "from torchvision.utils import make_grid\n",
    "from torchvision import transforms as T\n",
    "from torchvision import models, datasets\n",
    "\n",
    "import os\n",
    "from random import randint\n",
    "import urllib\n",
    "import zipfile"
   ]
  },
  {
   "cell_type": "code",
   "execution_count": 8,
   "id": "42a3dce9",
   "metadata": {},
   "outputs": [],
   "source": [
    "#!wget http://cs231n.stanford.edu/tiny-imagenet-200.zip"
   ]
  },
  {
   "cell_type": "code",
   "execution_count": 9,
   "id": "5bcb231d",
   "metadata": {},
   "outputs": [],
   "source": [
    "#!unzip -qq 'tiny-imagenet-200.zip'"
   ]
  },
  {
   "cell_type": "code",
   "execution_count": 35,
   "id": "76b3c20e",
   "metadata": {},
   "outputs": [],
   "source": [
    "def log_likelihood(params, X, y, weights):\n",
    "    N, d = X.shape\n",
    "    c = y.shape[1]\n",
    "    w = params.reshape(d, c)\n",
    "    preds = X @ w\n",
    "    probs = np.exp(preds - np.max(preds, axis = 1, keepdims = True))\n",
    "    probs = probs / np.sum(probs, axis = 1, keepdims = True)\n",
    "    probs[probs == 0] = 1e-10\n",
    "    ll = np.sum(y * np.log(probs), axis = 1)\n",
    "    return ll.reshape(-1, 1)\n",
    "\n",
    "# https://stats.stackexchange.com/questions/90134/gradient-of-multivariate-gaussian-log-likelihood\n",
    "def grad_log_likelihood(params, X, y, weights):\n",
    "    mu = params[:d].reshape(-1, 1)\n",
    "    sigma = np.diag(params[d:].reshape(-1, 1)[:, 0])\n",
    "    return (-np.linalg.inv(sigma) @ (X.T - mu)).reshape(-1, X.shape[1])\n",
    "\n",
    "def log_posterior(params, X, y, weights):\n",
    "    return weights.T @ log_likelihood(params, X, y, weights)"
   ]
  },
  {
   "cell_type": "code",
   "execution_count": 36,
   "id": "79350195",
   "metadata": {},
   "outputs": [],
   "source": [
    "# https://github.com/izmailovpavel/neurips_bdl_starter_kit/blob/main/metrics.py\n",
    "import scipy\n",
    "\n",
    "def total_variation_distance(reference: np.array, predictions: np.array):\n",
    "    \"\"\"Returns total variation distance.\"\"\"\n",
    "    return np.abs(predictions - reference).sum(axis=-1).mean() / 2."
   ]
  },
  {
   "cell_type": "code",
   "execution_count": 37,
   "id": "b8c3e826",
   "metadata": {},
   "outputs": [],
   "source": [
    "import os\n",
    "\n",
    "# Define main data directory\n",
    "DATA_DIR = 'tiny-imagenet-200' # Original images come in shapes of [3,64,64]\n",
    "\n",
    "# Define training and validation data paths\n",
    "TRAIN_DIR = os.path.join(DATA_DIR, 'train') \n",
    "VALID_DIR = os.path.join(DATA_DIR, 'val')"
   ]
  },
  {
   "cell_type": "code",
   "execution_count": 38,
   "id": "ee26da4d",
   "metadata": {},
   "outputs": [],
   "source": [
    "def generate_dataloader(data, name, transform, batch_size):\n",
    "    if data is None: \n",
    "        return None\n",
    "    \n",
    "    # Read image files to pytorch dataset using ImageFolder, a generic data \n",
    "    # loader where images are in format root/label/filename\n",
    "    # See https://pytorch.org/vision/stable/datasets.html\n",
    "    if transform is None:\n",
    "        dataset = datasets.ImageFolder(data, transform = T.ToTensor())\n",
    "    else:\n",
    "        dataset = datasets.ImageFolder(data, transform = transform)\n",
    "\n",
    "    # Set options for device\n",
    "    kwargs = {}\n",
    "    \n",
    "    # Wrap image dataset (defined above) in dataloader \n",
    "    dataloader = DataLoader(dataset, batch_size=batch_size, \n",
    "                        shuffle=(name==\"train\"), \n",
    "                        **kwargs)\n",
    "    \n",
    "    return dataloader"
   ]
  },
  {
   "cell_type": "code",
   "execution_count": 39,
   "id": "f355fb49",
   "metadata": {},
   "outputs": [
    {
     "data": {
      "text/plain": [
       "{'val_0.JPEG': 'n03444034',\n",
       " 'val_1.JPEG': 'n04067472',\n",
       " 'val_2.JPEG': 'n04070727',\n",
       " 'val_3.JPEG': 'n02808440',\n",
       " 'val_4.JPEG': 'n02808440',\n",
       " 'val_5.JPEG': 'n04399382',\n",
       " 'val_6.JPEG': 'n04179913',\n",
       " 'val_7.JPEG': 'n02823428',\n",
       " 'val_8.JPEG': 'n04146614',\n",
       " 'val_9.JPEG': 'n02226429'}"
      ]
     },
     "execution_count": 39,
     "metadata": {},
     "output_type": "execute_result"
    }
   ],
   "source": [
    "# Create separate validation subfolders for the validation images based on\n",
    "# their labels indicated in the val_annotations txt file\n",
    "val_img_dir = os.path.join(VALID_DIR, 'images')\n",
    "\n",
    "# Open and read val annotations text file\n",
    "fp = open(os.path.join(VALID_DIR, 'val_annotations.txt'), 'r')\n",
    "data = fp.readlines()\n",
    "\n",
    "# Create dictionary to store img filename (word 0) and corresponding\n",
    "# label (word 1) for every line in the txt file (as key value pair)\n",
    "val_img_dict = {}\n",
    "for line in data:\n",
    "    words = line.split('\\t')\n",
    "    val_img_dict[words[0]] = words[1]\n",
    "fp.close()\n",
    "\n",
    "# Display first 10 entries of resulting val_img_dict dictionary\n",
    "{k: val_img_dict[k] for k in list(val_img_dict)[:10]}"
   ]
  },
  {
   "cell_type": "code",
   "execution_count": 40,
   "id": "716ae449",
   "metadata": {},
   "outputs": [],
   "source": [
    "# Create subfolders (if not present) for validation images based on label,\n",
    "# and move images into the respective folders\n",
    "for img, folder in val_img_dict.items():\n",
    "    newpath = (os.path.join(val_img_dir, folder))\n",
    "    if not os.path.exists(newpath):\n",
    "        os.makedirs(newpath)\n",
    "    if os.path.exists(os.path.join(val_img_dir, img)):\n",
    "        os.rename(os.path.join(val_img_dir, img), os.path.join(newpath, img))"
   ]
  },
  {
   "cell_type": "code",
   "execution_count": 41,
   "id": "a49b4850",
   "metadata": {},
   "outputs": [],
   "source": [
    "preprocess_transform_pretrain = T.Compose([\n",
    "                T.Resize(32), # Resize images to 256 x 256\n",
    "                T.ToTensor(),  # Converting cropped images to tensors\n",
    "                T.Normalize(mean=[0.485, 0.456, 0.406], \n",
    "                            std=[0.229, 0.224, 0.225])\n",
    "])"
   ]
  },
  {
   "cell_type": "code",
   "execution_count": 42,
   "id": "2c1b85ab",
   "metadata": {},
   "outputs": [],
   "source": [
    "# Define batch size for DataLoaders\n",
    "batch_size = 100\n",
    "\n",
    "# Create DataLoaders for pre-trained models (normalized based on specific requirements)\n",
    "train_loader_pretrain = generate_dataloader(TRAIN_DIR, \"train\",\n",
    "                                  transform=preprocess_transform_pretrain, batch_size = batch_size)\n",
    "\n",
    "val_loader_pretrain = generate_dataloader(val_img_dir, \"val\",\n",
    "                                 transform=preprocess_transform_pretrain, batch_size = batch_size)"
   ]
  },
  {
   "cell_type": "code",
   "execution_count": 43,
   "id": "135210da",
   "metadata": {},
   "outputs": [
    {
     "name": "stdout",
     "output_type": "stream",
     "text": [
      "0\n"
     ]
    },
    {
     "name": "stderr",
     "output_type": "stream",
     "text": [
      "Process ForkPoolWorker-97:\n",
      "Process ForkPoolWorker-95:\n",
      "Process ForkPoolWorker-96:\n",
      "Process ForkPoolWorker-92:\n",
      "Process ForkPoolWorker-94:\n",
      "Process ForkPoolWorker-93:\n"
     ]
    },
    {
     "ename": "KeyboardInterrupt",
     "evalue": "",
     "output_type": "error",
     "traceback": [
      "\u001b[0;31m---------------------------------------------------------------------------\u001b[0m",
      "\u001b[0;31mKeyboardInterrupt\u001b[0m                         Traceback (most recent call last)",
      "Input \u001b[0;32mIn [43]\u001b[0m, in \u001b[0;36m<cell line: 3>\u001b[0;34m()\u001b[0m\n\u001b[1;32m     34\u001b[0m full_inds \u001b[38;5;241m=\u001b[39m distribute_randomly(x)\n\u001b[1;32m     36\u001b[0m \u001b[38;5;66;03m# Step 2: run IS\u001b[39;00m\n\u001b[0;32m---> 37\u001b[0m w_is \u001b[38;5;241m=\u001b[39m \u001b[43mexternal_parallelization\u001b[49m\u001b[43m(\u001b[49m\u001b[43mSensitivityBasedIS\u001b[49m\u001b[43m,\u001b[49m\u001b[43m \u001b[49m\u001b[43mx\u001b[49m\u001b[43m,\u001b[49m\u001b[43m \u001b[49m\u001b[43mi\u001b[49m\u001b[43m,\u001b[49m\u001b[43m \u001b[49m\u001b[38;5;124;43m\"\u001b[39;49m\u001b[38;5;124;43m2\u001b[39;49m\u001b[38;5;124;43m\"\u001b[39;49m\u001b[43m,\u001b[49m\u001b[43m \u001b[49m\u001b[43mna\u001b[49m\u001b[43m,\u001b[49m\u001b[43m \u001b[49m\u001b[43mfull_inds\u001b[49m\u001b[43m,\u001b[49m\u001b[43m \u001b[49m\u001b[38;5;28;43;01mNone\u001b[39;49;00m\u001b[43m,\u001b[49m\u001b[43m \u001b[49m\u001b[43my\u001b[49m\u001b[43m)\u001b[49m\n\u001b[1;32m     39\u001b[0m \u001b[38;5;66;03m# Step 3: get smaller dataset\u001b[39;00m\n\u001b[1;32m     40\u001b[0m x_new \u001b[38;5;241m=\u001b[39m x[w_is\u001b[38;5;241m.\u001b[39mflatten() \u001b[38;5;241m!=\u001b[39m \u001b[38;5;241m0\u001b[39m]\n",
      "Input \u001b[0;32mIn [4]\u001b[0m, in \u001b[0;36mexternal_parallelization\u001b[0;34m(alg, x, k, norm, na, distributed_indices, likelihood_gram_matrix, y)\u001b[0m\n\u001b[1;32m      2\u001b[0m pool \u001b[38;5;241m=\u001b[39m get_context(\u001b[38;5;124m\"\u001b[39m\u001b[38;5;124mfork\u001b[39m\u001b[38;5;124m\"\u001b[39m)\u001b[38;5;241m.\u001b[39mPool(mp\u001b[38;5;241m.\u001b[39mcpu_count() \u001b[38;5;241m-\u001b[39m \u001b[38;5;241m1\u001b[39m)\n\u001b[1;32m      4\u001b[0m \u001b[38;5;28;01mif\u001b[39;00m likelihood_gram_matrix \u001b[38;5;129;01mis\u001b[39;00m \u001b[38;5;28;01mNone\u001b[39;00m:\n\u001b[0;32m----> 5\u001b[0m     output \u001b[38;5;241m=\u001b[39m [pool\u001b[38;5;241m.\u001b[39mapply(apply_algorithm, args \u001b[38;5;241m=\u001b[39m [alg, \n\u001b[1;32m      6\u001b[0m                                                   x[ind, :],\n\u001b[1;32m      7\u001b[0m                                                   k, \n\u001b[1;32m      8\u001b[0m                                                   norm, \n\u001b[1;32m      9\u001b[0m                                                   na,\n\u001b[1;32m     10\u001b[0m                                                   \u001b[38;5;28;01mNone\u001b[39;00m,\n\u001b[1;32m     11\u001b[0m                                                   y[ind, :]]) \u001b[38;5;28;01mfor\u001b[39;00m ind \u001b[38;5;129;01min\u001b[39;00m distributed_indices]\n\u001b[1;32m     12\u001b[0m \u001b[38;5;28;01melse\u001b[39;00m:\n\u001b[1;32m     13\u001b[0m     output \u001b[38;5;241m=\u001b[39m [pool\u001b[38;5;241m.\u001b[39mapply(apply_algorithm, args \u001b[38;5;241m=\u001b[39m [alg, \n\u001b[1;32m     14\u001b[0m                                                   x[ind, :],\n\u001b[1;32m     15\u001b[0m                                                   k, \n\u001b[1;32m     16\u001b[0m                                                   norm, \n\u001b[1;32m     17\u001b[0m                                                   na,\n\u001b[1;32m     18\u001b[0m                                                   likelihood_gram_matrix[np\u001b[38;5;241m.\u001b[39mix_(ind, ind)], y[ind, :]]) \u001b[38;5;28;01mfor\u001b[39;00m ind \u001b[38;5;129;01min\u001b[39;00m distributed_indices]\n",
      "Input \u001b[0;32mIn [4]\u001b[0m, in \u001b[0;36m<listcomp>\u001b[0;34m(.0)\u001b[0m\n\u001b[1;32m      2\u001b[0m pool \u001b[38;5;241m=\u001b[39m get_context(\u001b[38;5;124m\"\u001b[39m\u001b[38;5;124mfork\u001b[39m\u001b[38;5;124m\"\u001b[39m)\u001b[38;5;241m.\u001b[39mPool(mp\u001b[38;5;241m.\u001b[39mcpu_count() \u001b[38;5;241m-\u001b[39m \u001b[38;5;241m1\u001b[39m)\n\u001b[1;32m      4\u001b[0m \u001b[38;5;28;01mif\u001b[39;00m likelihood_gram_matrix \u001b[38;5;129;01mis\u001b[39;00m \u001b[38;5;28;01mNone\u001b[39;00m:\n\u001b[0;32m----> 5\u001b[0m     output \u001b[38;5;241m=\u001b[39m [\u001b[43mpool\u001b[49m\u001b[38;5;241;43m.\u001b[39;49m\u001b[43mapply\u001b[49m\u001b[43m(\u001b[49m\u001b[43mapply_algorithm\u001b[49m\u001b[43m,\u001b[49m\u001b[43m \u001b[49m\u001b[43margs\u001b[49m\u001b[43m \u001b[49m\u001b[38;5;241;43m=\u001b[39;49m\u001b[43m \u001b[49m\u001b[43m[\u001b[49m\u001b[43malg\u001b[49m\u001b[43m,\u001b[49m\u001b[43m \u001b[49m\n\u001b[1;32m      6\u001b[0m \u001b[43m                                                  \u001b[49m\u001b[43mx\u001b[49m\u001b[43m[\u001b[49m\u001b[43mind\u001b[49m\u001b[43m,\u001b[49m\u001b[43m \u001b[49m\u001b[43m:\u001b[49m\u001b[43m]\u001b[49m\u001b[43m,\u001b[49m\n\u001b[1;32m      7\u001b[0m \u001b[43m                                                  \u001b[49m\u001b[43mk\u001b[49m\u001b[43m,\u001b[49m\u001b[43m \u001b[49m\n\u001b[1;32m      8\u001b[0m \u001b[43m                                                  \u001b[49m\u001b[43mnorm\u001b[49m\u001b[43m,\u001b[49m\u001b[43m \u001b[49m\n\u001b[1;32m      9\u001b[0m \u001b[43m                                                  \u001b[49m\u001b[43mna\u001b[49m\u001b[43m,\u001b[49m\n\u001b[1;32m     10\u001b[0m \u001b[43m                                                  \u001b[49m\u001b[38;5;28;43;01mNone\u001b[39;49;00m\u001b[43m,\u001b[49m\n\u001b[1;32m     11\u001b[0m \u001b[43m                                                  \u001b[49m\u001b[43my\u001b[49m\u001b[43m[\u001b[49m\u001b[43mind\u001b[49m\u001b[43m,\u001b[49m\u001b[43m \u001b[49m\u001b[43m:\u001b[49m\u001b[43m]\u001b[49m\u001b[43m]\u001b[49m\u001b[43m)\u001b[49m \u001b[38;5;28;01mfor\u001b[39;00m ind \u001b[38;5;129;01min\u001b[39;00m distributed_indices]\n\u001b[1;32m     12\u001b[0m \u001b[38;5;28;01melse\u001b[39;00m:\n\u001b[1;32m     13\u001b[0m     output \u001b[38;5;241m=\u001b[39m [pool\u001b[38;5;241m.\u001b[39mapply(apply_algorithm, args \u001b[38;5;241m=\u001b[39m [alg, \n\u001b[1;32m     14\u001b[0m                                                   x[ind, :],\n\u001b[1;32m     15\u001b[0m                                                   k, \n\u001b[1;32m     16\u001b[0m                                                   norm, \n\u001b[1;32m     17\u001b[0m                                                   na,\n\u001b[1;32m     18\u001b[0m                                                   likelihood_gram_matrix[np\u001b[38;5;241m.\u001b[39mix_(ind, ind)], y[ind, :]]) \u001b[38;5;28;01mfor\u001b[39;00m ind \u001b[38;5;129;01min\u001b[39;00m distributed_indices]\n",
      "File \u001b[0;32m/opt/anaconda3/lib/python3.8/multiprocessing/pool.py:357\u001b[0m, in \u001b[0;36mPool.apply\u001b[0;34m(self, func, args, kwds)\u001b[0m\n\u001b[1;32m    352\u001b[0m \u001b[38;5;28;01mdef\u001b[39;00m \u001b[38;5;21mapply\u001b[39m(\u001b[38;5;28mself\u001b[39m, func, args\u001b[38;5;241m=\u001b[39m(), kwds\u001b[38;5;241m=\u001b[39m{}):\n\u001b[1;32m    353\u001b[0m     \u001b[38;5;124;03m'''\u001b[39;00m\n\u001b[1;32m    354\u001b[0m \u001b[38;5;124;03m    Equivalent of `func(*args, **kwds)`.\u001b[39;00m\n\u001b[1;32m    355\u001b[0m \u001b[38;5;124;03m    Pool must be running.\u001b[39;00m\n\u001b[1;32m    356\u001b[0m \u001b[38;5;124;03m    '''\u001b[39;00m\n\u001b[0;32m--> 357\u001b[0m     \u001b[38;5;28;01mreturn\u001b[39;00m \u001b[38;5;28;43mself\u001b[39;49m\u001b[38;5;241;43m.\u001b[39;49m\u001b[43mapply_async\u001b[49m\u001b[43m(\u001b[49m\u001b[43mfunc\u001b[49m\u001b[43m,\u001b[49m\u001b[43m \u001b[49m\u001b[43margs\u001b[49m\u001b[43m,\u001b[49m\u001b[43m \u001b[49m\u001b[43mkwds\u001b[49m\u001b[43m)\u001b[49m\u001b[38;5;241;43m.\u001b[39;49m\u001b[43mget\u001b[49m\u001b[43m(\u001b[49m\u001b[43m)\u001b[49m\n",
      "File \u001b[0;32m/opt/anaconda3/lib/python3.8/multiprocessing/pool.py:765\u001b[0m, in \u001b[0;36mApplyResult.get\u001b[0;34m(self, timeout)\u001b[0m\n\u001b[1;32m    764\u001b[0m \u001b[38;5;28;01mdef\u001b[39;00m \u001b[38;5;21mget\u001b[39m(\u001b[38;5;28mself\u001b[39m, timeout\u001b[38;5;241m=\u001b[39m\u001b[38;5;28;01mNone\u001b[39;00m):\n\u001b[0;32m--> 765\u001b[0m     \u001b[38;5;28;43mself\u001b[39;49m\u001b[38;5;241;43m.\u001b[39;49m\u001b[43mwait\u001b[49m\u001b[43m(\u001b[49m\u001b[43mtimeout\u001b[49m\u001b[43m)\u001b[49m\n\u001b[1;32m    766\u001b[0m     \u001b[38;5;28;01mif\u001b[39;00m \u001b[38;5;129;01mnot\u001b[39;00m \u001b[38;5;28mself\u001b[39m\u001b[38;5;241m.\u001b[39mready():\n\u001b[1;32m    767\u001b[0m         \u001b[38;5;28;01mraise\u001b[39;00m \u001b[38;5;167;01mTimeoutError\u001b[39;00m\n",
      "File \u001b[0;32m/opt/anaconda3/lib/python3.8/multiprocessing/pool.py:762\u001b[0m, in \u001b[0;36mApplyResult.wait\u001b[0;34m(self, timeout)\u001b[0m\n\u001b[1;32m    761\u001b[0m \u001b[38;5;28;01mdef\u001b[39;00m \u001b[38;5;21mwait\u001b[39m(\u001b[38;5;28mself\u001b[39m, timeout\u001b[38;5;241m=\u001b[39m\u001b[38;5;28;01mNone\u001b[39;00m):\n\u001b[0;32m--> 762\u001b[0m     \u001b[38;5;28;43mself\u001b[39;49m\u001b[38;5;241;43m.\u001b[39;49m\u001b[43m_event\u001b[49m\u001b[38;5;241;43m.\u001b[39;49m\u001b[43mwait\u001b[49m\u001b[43m(\u001b[49m\u001b[43mtimeout\u001b[49m\u001b[43m)\u001b[49m\n",
      "File \u001b[0;32m/opt/anaconda3/lib/python3.8/threading.py:558\u001b[0m, in \u001b[0;36mEvent.wait\u001b[0;34m(self, timeout)\u001b[0m\n\u001b[1;32m    556\u001b[0m signaled \u001b[38;5;241m=\u001b[39m \u001b[38;5;28mself\u001b[39m\u001b[38;5;241m.\u001b[39m_flag\n\u001b[1;32m    557\u001b[0m \u001b[38;5;28;01mif\u001b[39;00m \u001b[38;5;129;01mnot\u001b[39;00m signaled:\n\u001b[0;32m--> 558\u001b[0m     signaled \u001b[38;5;241m=\u001b[39m \u001b[38;5;28;43mself\u001b[39;49m\u001b[38;5;241;43m.\u001b[39;49m\u001b[43m_cond\u001b[49m\u001b[38;5;241;43m.\u001b[39;49m\u001b[43mwait\u001b[49m\u001b[43m(\u001b[49m\u001b[43mtimeout\u001b[49m\u001b[43m)\u001b[49m\n\u001b[1;32m    559\u001b[0m \u001b[38;5;28;01mreturn\u001b[39;00m signaled\n",
      "File \u001b[0;32m/opt/anaconda3/lib/python3.8/threading.py:302\u001b[0m, in \u001b[0;36mCondition.wait\u001b[0;34m(self, timeout)\u001b[0m\n\u001b[1;32m    300\u001b[0m \u001b[38;5;28;01mtry\u001b[39;00m:    \u001b[38;5;66;03m# restore state no matter what (e.g., KeyboardInterrupt)\u001b[39;00m\n\u001b[1;32m    301\u001b[0m     \u001b[38;5;28;01mif\u001b[39;00m timeout \u001b[38;5;129;01mis\u001b[39;00m \u001b[38;5;28;01mNone\u001b[39;00m:\n\u001b[0;32m--> 302\u001b[0m         \u001b[43mwaiter\u001b[49m\u001b[38;5;241;43m.\u001b[39;49m\u001b[43macquire\u001b[49m\u001b[43m(\u001b[49m\u001b[43m)\u001b[49m\n\u001b[1;32m    303\u001b[0m         gotit \u001b[38;5;241m=\u001b[39m \u001b[38;5;28;01mTrue\u001b[39;00m\n\u001b[1;32m    304\u001b[0m     \u001b[38;5;28;01melse\u001b[39;00m:\n",
      "\u001b[0;31mKeyboardInterrupt\u001b[0m: "
     ]
    },
    {
     "name": "stderr",
     "output_type": "stream",
     "text": [
      "Traceback (most recent call last):\n",
      "Process ForkPoolWorker-91:\n",
      "  File \"/opt/anaconda3/lib/python3.8/multiprocessing/process.py\", line 315, in _bootstrap\n",
      "    self.run()\n",
      "Traceback (most recent call last):\n",
      "Traceback (most recent call last):\n",
      "Traceback (most recent call last):\n",
      "Traceback (most recent call last):\n",
      "Traceback (most recent call last):\n",
      "  File \"/opt/anaconda3/lib/python3.8/multiprocessing/process.py\", line 315, in _bootstrap\n",
      "    self.run()\n",
      "Traceback (most recent call last):\n",
      "  File \"/opt/anaconda3/lib/python3.8/multiprocessing/process.py\", line 108, in run\n",
      "    self._target(*self._args, **self._kwargs)\n",
      "  File \"/opt/anaconda3/lib/python3.8/multiprocessing/process.py\", line 315, in _bootstrap\n",
      "    self.run()\n",
      "  File \"/opt/anaconda3/lib/python3.8/multiprocessing/process.py\", line 315, in _bootstrap\n",
      "    self.run()\n",
      "  File \"/opt/anaconda3/lib/python3.8/multiprocessing/process.py\", line 315, in _bootstrap\n",
      "    self.run()\n",
      "  File \"/opt/anaconda3/lib/python3.8/multiprocessing/process.py\", line 315, in _bootstrap\n",
      "    self.run()\n",
      "  File \"/opt/anaconda3/lib/python3.8/multiprocessing/process.py\", line 108, in run\n",
      "    self._target(*self._args, **self._kwargs)\n",
      "  File \"/opt/anaconda3/lib/python3.8/multiprocessing/process.py\", line 315, in _bootstrap\n",
      "    self.run()\n",
      "  File \"/opt/anaconda3/lib/python3.8/multiprocessing/pool.py\", line 114, in worker\n",
      "    task = get()\n",
      "  File \"/opt/anaconda3/lib/python3.8/multiprocessing/process.py\", line 108, in run\n",
      "    self._target(*self._args, **self._kwargs)\n",
      "  File \"/opt/anaconda3/lib/python3.8/multiprocessing/process.py\", line 108, in run\n",
      "    self._target(*self._args, **self._kwargs)\n",
      "  File \"/opt/anaconda3/lib/python3.8/multiprocessing/pool.py\", line 114, in worker\n",
      "    task = get()\n",
      "  File \"/opt/anaconda3/lib/python3.8/multiprocessing/process.py\", line 108, in run\n",
      "    self._target(*self._args, **self._kwargs)\n",
      "  File \"/opt/anaconda3/lib/python3.8/multiprocessing/process.py\", line 108, in run\n",
      "    self._target(*self._args, **self._kwargs)\n",
      "  File \"/opt/anaconda3/lib/python3.8/multiprocessing/process.py\", line 108, in run\n",
      "    self._target(*self._args, **self._kwargs)\n",
      "  File \"/opt/anaconda3/lib/python3.8/multiprocessing/pool.py\", line 114, in worker\n",
      "    task = get()\n",
      "  File \"/opt/anaconda3/lib/python3.8/multiprocessing/queues.py\", line 355, in get\n",
      "    with self._rlock:\n",
      "  File \"/opt/anaconda3/lib/python3.8/multiprocessing/pool.py\", line 114, in worker\n",
      "    task = get()\n",
      "  File \"/opt/anaconda3/lib/python3.8/multiprocessing/queues.py\", line 355, in get\n",
      "    with self._rlock:\n",
      "  File \"/opt/anaconda3/lib/python3.8/multiprocessing/pool.py\", line 114, in worker\n",
      "    task = get()\n",
      "  File \"/opt/anaconda3/lib/python3.8/multiprocessing/pool.py\", line 114, in worker\n",
      "    task = get()\n",
      "  File \"/opt/anaconda3/lib/python3.8/multiprocessing/pool.py\", line 114, in worker\n",
      "    task = get()\n",
      "  File \"/opt/anaconda3/lib/python3.8/multiprocessing/queues.py\", line 355, in get\n",
      "    with self._rlock:\n",
      "  File \"/opt/anaconda3/lib/python3.8/multiprocessing/queues.py\", line 355, in get\n",
      "    with self._rlock:\n",
      "  File \"/opt/anaconda3/lib/python3.8/multiprocessing/synchronize.py\", line 95, in __enter__\n",
      "    return self._semlock.__enter__()\n",
      "  File \"/opt/anaconda3/lib/python3.8/multiprocessing/queues.py\", line 355, in get\n",
      "    with self._rlock:\n",
      "  File \"/opt/anaconda3/lib/python3.8/multiprocessing/queues.py\", line 355, in get\n",
      "    with self._rlock:\n",
      "  File \"/opt/anaconda3/lib/python3.8/multiprocessing/queues.py\", line 356, in get\n",
      "    res = self._reader.recv_bytes()\n",
      "  File \"/opt/anaconda3/lib/python3.8/multiprocessing/synchronize.py\", line 95, in __enter__\n",
      "    return self._semlock.__enter__()\n",
      "  File \"/opt/anaconda3/lib/python3.8/multiprocessing/synchronize.py\", line 95, in __enter__\n",
      "    return self._semlock.__enter__()\n",
      "  File \"/opt/anaconda3/lib/python3.8/multiprocessing/synchronize.py\", line 95, in __enter__\n",
      "    return self._semlock.__enter__()\n",
      "  File \"/opt/anaconda3/lib/python3.8/multiprocessing/synchronize.py\", line 95, in __enter__\n",
      "    return self._semlock.__enter__()\n",
      "KeyboardInterrupt\n",
      "  File \"/opt/anaconda3/lib/python3.8/multiprocessing/synchronize.py\", line 95, in __enter__\n",
      "    return self._semlock.__enter__()\n",
      "  File \"/opt/anaconda3/lib/python3.8/multiprocessing/connection.py\", line 216, in recv_bytes\n",
      "    buf = self._recv_bytes(maxlength)\n",
      "KeyboardInterrupt\n",
      "KeyboardInterrupt\n",
      "KeyboardInterrupt\n",
      "KeyboardInterrupt\n",
      "KeyboardInterrupt\n",
      "  File \"/opt/anaconda3/lib/python3.8/multiprocessing/connection.py\", line 414, in _recv_bytes\n",
      "    buf = self._recv(4)\n",
      "  File \"/opt/anaconda3/lib/python3.8/multiprocessing/connection.py\", line 379, in _recv\n",
      "    chunk = read(handle, remaining)\n",
      "KeyboardInterrupt\n",
      "Process ForkPoolWorker-98:\n",
      "Process ForkPoolWorker-99:\n",
      "Traceback (most recent call last):\n",
      "Traceback (most recent call last):\n",
      "  File \"/opt/anaconda3/lib/python3.8/multiprocessing/process.py\", line 315, in _bootstrap\n",
      "    self.run()\n",
      "  File \"/opt/anaconda3/lib/python3.8/multiprocessing/process.py\", line 315, in _bootstrap\n",
      "    self.run()\n",
      "  File \"/opt/anaconda3/lib/python3.8/multiprocessing/process.py\", line 108, in run\n",
      "    self._target(*self._args, **self._kwargs)\n",
      "  File \"/opt/anaconda3/lib/python3.8/multiprocessing/process.py\", line 108, in run\n",
      "    self._target(*self._args, **self._kwargs)\n",
      "  File \"/opt/anaconda3/lib/python3.8/multiprocessing/pool.py\", line 114, in worker\n",
      "    task = get()\n",
      "  File \"/opt/anaconda3/lib/python3.8/multiprocessing/pool.py\", line 114, in worker\n",
      "    task = get()\n",
      "  File \"/opt/anaconda3/lib/python3.8/multiprocessing/queues.py\", line 356, in get\n",
      "    res = self._reader.recv_bytes()\n",
      "  File \"/opt/anaconda3/lib/python3.8/multiprocessing/queues.py\", line 355, in get\n",
      "    with self._rlock:\n",
      "  File \"/opt/anaconda3/lib/python3.8/multiprocessing/connection.py\", line 216, in recv_bytes\n",
      "    buf = self._recv_bytes(maxlength)\n",
      "  File \"/opt/anaconda3/lib/python3.8/multiprocessing/synchronize.py\", line 95, in __enter__\n",
      "    return self._semlock.__enter__()\n",
      "  File \"/opt/anaconda3/lib/python3.8/multiprocessing/connection.py\", line 414, in _recv_bytes\n",
      "    buf = self._recv(4)\n",
      "KeyboardInterrupt\n",
      "  File \"/opt/anaconda3/lib/python3.8/multiprocessing/connection.py\", line 379, in _recv\n",
      "    chunk = read(handle, remaining)\n",
      "KeyboardInterrupt\n"
     ]
    }
   ],
   "source": [
    "coreset_sizes = [10]\n",
    "\n",
    "for i in coreset_sizes:\n",
    "    \n",
    "    tvs_s = []\n",
    "    tvs_p = []\n",
    "    time_s = []\n",
    "    time_p = []\n",
    "    w_p = []\n",
    "    w_s = []\n",
    "    \n",
    "    counter = 0\n",
    "    \n",
    "    for X, y_labels in train_loader_pretrain:\n",
    "        print(counter)\n",
    "        from sklearn.preprocessing import LabelBinarizer\n",
    "        lb = LabelBinarizer()\n",
    "        y = lb.fit_transform(y_labels)\n",
    "        x = X = X.detach().numpy()[:, 0, :, :].reshape(batch_size, -1)\n",
    "        \n",
    "        na = {\"log_likelihood\": log_likelihood,\n",
    "          \"log_likelihood_start_value\": np.zeros(X.shape[1] * y.shape[1]).reshape(-1, 1),\n",
    "          \"S\": 100,\n",
    "          \"log_likelihood_gradient\": grad_log_likelihood,\n",
    "          \"approx\": \"Laplace\",\n",
    "          \"MCMC_subs_size\": 1000,\n",
    "          \"log_posterior\": log_posterior,\n",
    "          \"log_posterior_start_value\": np.zeros(X.shape[1] * y.shape[1]).reshape(-1, 1)}\n",
    "\n",
    "        ## Parallel\n",
    "        start = time.time()\n",
    "\n",
    "        # Step 1: distribute\n",
    "        full_inds = distribute_randomly(x)\n",
    "\n",
    "        # Step 2: run IS\n",
    "        w_is = external_parallelization(SensitivityBasedIS, x, i, \"2\", na, full_inds, None, y)\n",
    "\n",
    "        # Step 3: get smaller dataset\n",
    "        x_new = x[w_is.flatten() != 0]\n",
    "        x_new = x_new.copy()\n",
    "        y_new = y[w_is.flatten() != 0]\n",
    "        y_new = y_new.copy()\n",
    "\n",
    "        # Step 4: run FW on it\n",
    "        sbfw = SensitivityBasedFW(x_new, y_new)\n",
    "        w_fw, I_fw = sbfw.run(k = i, likelihood_gram_matrix = None, norm = \"2\", norm_attributes = na)\n",
    "\n",
    "        w_is[w_is.flatten() != 0] = w_fw\n",
    "        w = w_is.copy()\n",
    "        time_p.append(time.time() - start)\n",
    "        w_p.append(w)\n",
    "\n",
    "        lr = LogisticRegression()\n",
    "        pred_p = lr.fit(X * w, y_labels).predict(X)\n",
    "\n",
    "        # Sequential\n",
    "        start = time.time()\n",
    "        sbfw = SensitivityBasedFW(x, y)\n",
    "        w, I = sbfw.run(k = i, likelihood_gram_matrix = None, norm = \"2\", norm_attributes = na)\n",
    "        time_s.append(time.time() - start)\n",
    "        w_s.append(w)\n",
    "\n",
    "        pred_s = lr.fit(X * w, y_labels).predict(X)\n",
    "\n",
    "        tvs_s.append(total_variation_distance(ref, pred_s))\n",
    "        tvs_p.append(total_variation_distance(ref, pred_p))\n",
    "        counter += 1"
   ]
  },
  {
   "cell_type": "code",
   "execution_count": null,
   "id": "1c40a592",
   "metadata": {},
   "outputs": [],
   "source": []
  }
 ],
 "metadata": {
  "kernelspec": {
   "display_name": "Python 3 (ipykernel)",
   "language": "python",
   "name": "python3"
  },
  "language_info": {
   "codemirror_mode": {
    "name": "ipython",
    "version": 3
   },
   "file_extension": ".py",
   "mimetype": "text/x-python",
   "name": "python",
   "nbconvert_exporter": "python",
   "pygments_lexer": "ipython3",
   "version": "3.8.13"
  }
 },
 "nbformat": 4,
 "nbformat_minor": 5
}
