{
 "cells": [
  {
   "cell_type": "code",
   "execution_count": 17,
   "id": "b6420f87",
   "metadata": {},
   "outputs": [],
   "source": [
    "import numpy as np\n",
    "import matplotlib.pyplot as plt\n",
    "import time\n",
    "from ebc.sequential.non_iterative import SensitivityBasedIS\n",
    "from ebc.sequential.iterative_with_convexification import SensitivityBasedFW\n",
    "from ebc.sequential.iterative_no_convexification import SparseVI, GIGA, IHT\n",
    "from ebc.gaussian import fisher_norm_under_true_gaussian_posterior, gaussian_multivariate_log_likelihood, gaussian_KL\n",
    "import multiprocessing as mp\n",
    "from multiprocessing import get_context"
   ]
  },
  {
   "cell_type": "code",
   "execution_count": 18,
   "id": "4d1fa7dd",
   "metadata": {},
   "outputs": [],
   "source": [
    "def distribute_randomly(x):\n",
    "    N = x.shape[0]\n",
    "    \n",
    "    probs = np.ones(N) / N\n",
    "    \n",
    "    # Calculate probabilities for distribution for each data point\n",
    "    full_inds = []\n",
    "    chunk_size = N // (mp.cpu_count() - 2)\n",
    "    \n",
    "    for i in range(mp.cpu_count() - 2):\n",
    "        inds = np.random.choice(np.arange(N), chunk_size, replace = False, p = probs)\n",
    "        probs[inds] = 0\n",
    "        probs = probs / np.sum(probs)\n",
    "        full_inds.append(inds.flatten().tolist())\n",
    "\n",
    "    full_inds.append(np.arange(N)[probs.flatten() != 0].tolist())\n",
    "    \n",
    "    return full_inds"
   ]
  },
  {
   "cell_type": "code",
   "execution_count": 19,
   "id": "2533aac2",
   "metadata": {},
   "outputs": [],
   "source": [
    "def external_parallelization(alg, x, k, norm, na, distributed_indices, likelihood_gram_matrix, y):\n",
    "    pool = get_context(\"fork\").Pool(mp.cpu_count() - 1)\n",
    "    \n",
    "    if y is None:\n",
    "        if likelihood_gram_matrix is None:\n",
    "            output = [pool.apply(apply_algorithm, args = [alg, \n",
    "                                                          x[ind, :],\n",
    "                                                          k, \n",
    "                                                          norm, \n",
    "                                                          na,\n",
    "                                                          None,\n",
    "                                                          None]) for ind in distributed_indices]\n",
    "        else:\n",
    "            output = [pool.apply(apply_algorithm, args = [alg, \n",
    "                                                          x[ind, :],\n",
    "                                                          k, \n",
    "                                                          norm, \n",
    "                                                          na,\n",
    "                                                          likelihood_gram_matrix[np.ix_(ind, ind)], None]) for ind in distributed_indices]\n",
    "    else:\n",
    "        if likelihood_gram_matrix is None:\n",
    "            output = [pool.apply(apply_algorithm, args = [alg, \n",
    "                                                          x[ind, :],\n",
    "                                                          k, \n",
    "                                                          norm, \n",
    "                                                          na,\n",
    "                                                          None,\n",
    "                                                          y[ind, :]]) for ind in distributed_indices]\n",
    "        else:\n",
    "            output = [pool.apply(apply_algorithm, args = [alg, \n",
    "                                                          x[ind, :],\n",
    "                                                          k, \n",
    "                                                          norm, \n",
    "                                                          na,\n",
    "                                                          likelihood_gram_matrix[np.ix_(ind, ind)], y[ind, :]]) for ind in distributed_indices]\n",
    "\n",
    "\n",
    "    \n",
    "    pool.close()\n",
    "    w = np.concatenate(output)\n",
    "    \n",
    "    return w"
   ]
  },
  {
   "cell_type": "code",
   "execution_count": 20,
   "id": "d78f165d",
   "metadata": {},
   "outputs": [],
   "source": [
    "def apply_algorithm(alg, \n",
    "                    x = None, \n",
    "                    k = None,\n",
    "                    norm = None,\n",
    "                    na = None,\n",
    "                    likelihood_gram_matrix = None,\n",
    "                    y = None):\n",
    "    inst = alg(x, y)\n",
    "    w, I = inst.run(k = k, likelihood_gram_matrix = likelihood_gram_matrix, norm = norm, norm_attributes = na)\n",
    "    return w"
   ]
  },
  {
   "cell_type": "code",
   "execution_count": 21,
   "id": "18838702",
   "metadata": {},
   "outputs": [],
   "source": [
    "def log_likelihood(params, X, y, weights):\n",
    "    mu = params[:d].reshape(-1, 1)\n",
    "    sigma = np.diag(params[d:].reshape(-1, 1)[:, 0])\n",
    "    return np.diag(gaussian_multivariate_log_likelihood(X.T, mu, sigma)).reshape(-1, 1)\n",
    "\n",
    "# https://stats.stackexchange.com/questions/90134/gradient-of-multivariate-gaussian-log-likelihood\n",
    "def grad_log_likelihood(params, X, y, weights):\n",
    "    mu = params[:d].reshape(-1, 1)\n",
    "    sigma = np.diag(params[d:].reshape(-1, 1)[:, 0])\n",
    "    return (-np.linalg.inv(sigma) @ (X.T - mu)).reshape(-1, X.shape[1])\n",
    "\n",
    "def log_posterior(params, X, y, weights):\n",
    "    return weights.T @ log_likelihood(params, X, y, weights)"
   ]
  },
  {
   "cell_type": "code",
   "execution_count": 22,
   "id": "1c1a068c",
   "metadata": {},
   "outputs": [
    {
     "name": "stdout",
     "output_type": "stream",
     "text": [
      "1000\n",
      "1000\n"
     ]
    }
   ],
   "source": [
    "time_p = []\n",
    "\n",
    "ds = [60, 70]\n",
    "\n",
    "for d in ds:\n",
    "\n",
    "    # Generate Data\n",
    "    N = 10000\n",
    "\n",
    "    np.random.seed(123)\n",
    "\n",
    "    # Theta as in sparse_vi\n",
    "    theta = np.random.multivariate_normal(mean = np.zeros(d), cov = np.identity(d))\n",
    "\n",
    "    # x as in sparse_vi\n",
    "    x = np.random.multivariate_normal(mean = theta, cov = np.identity(d), size = N)\n",
    "\n",
    "    # Parameters\n",
    "    sigma_0 = np.identity(d)\n",
    "    sigma = np.identity(d)\n",
    "    mu_0 = np.zeros(d).reshape(-1, 1)\n",
    "\n",
    "    # Full Gaussian posterior\n",
    "    sigma_full = np.linalg.inv(np.linalg.inv(sigma_0) + N * np.linalg.inv(sigma))\n",
    "    mu_full =  sigma_full @ (np.linalg.inv(sigma_0) @ mu_0 + np.linalg.inv(sigma) @ np.sum(x, axis = 0).reshape(-1, 1))        \n",
    "\n",
    "    na = {\"log_likelihood\": log_likelihood,\n",
    "          \"log_likelihood_start_value\": np.ones(2 * d),\n",
    "          \"S\": 500,\n",
    "          \"log_likelihood_gradient\": grad_log_likelihood,\n",
    "          \"approx\": \"Laplace\",\n",
    "          \"MCMC_subs_size\": 500,\n",
    "          \"log_posterior\": log_posterior,\n",
    "          \"log_posterior_start_value\": np.ones(2 * d)}\n",
    "    \n",
    "    coreset_sizes = [int(N * 0.1)]\n",
    "\n",
    "    for i in coreset_sizes:\n",
    "\n",
    "        print(i)\n",
    "\n",
    "        ## Parallel\n",
    "\n",
    "        start = time.time()\n",
    "\n",
    "        # Step 1: distribute\n",
    "        full_inds = distribute_randomly(x)\n",
    "\n",
    "        # Step 2: run IS\n",
    "        w_is = external_parallelization(SensitivityBasedIS, x, i, \"2\", \n",
    "                                     na, full_inds, None, None)\n",
    "\n",
    "        # Step 3: get smaller dataset\n",
    "        x_new = x[w_is.flatten() != 0]\n",
    "        x_new = x_new.copy()\n",
    "\n",
    "        # Step 4: run FW on it\n",
    "        sbfw = SensitivityBasedFW(x_new)\n",
    "        w_fw, I_fw = sbfw.run(k = i, likelihood_gram_matrix = None, norm = \"2\", norm_attributes = na)\n",
    "\n",
    "        w_is[w_is.flatten() != 0] = w_fw\n",
    "        w = w_is.copy()\n",
    "\n",
    "        time_p.append(time.time() - start)"
   ]
  },
  {
   "cell_type": "code",
   "execution_count": 24,
   "id": "35ced77f",
   "metadata": {},
   "outputs": [
    {
     "data": {
      "text/plain": [
       "[2607.0624828338623, 1728.5227661132812]"
      ]
     },
     "execution_count": 24,
     "metadata": {},
     "output_type": "execute_result"
    }
   ],
   "source": [
    "time_p"
   ]
  },
  {
   "cell_type": "code",
   "execution_count": null,
   "id": "fa997192",
   "metadata": {},
   "outputs": [],
   "source": [
    "time_p"
   ]
  },
  {
   "cell_type": "code",
   "execution_count": 26,
   "id": "7d886f12",
   "metadata": {},
   "outputs": [
    {
     "data": {
      "text/plain": [
       "[264.8016948699951,\n",
       " 462.6009712219238,\n",
       " 838.9416499137878,\n",
       " 1423.0083861351013,\n",
       " 2607.0624828338623]"
      ]
     },
     "execution_count": 26,
     "metadata": {},
     "output_type": "execute_result"
    }
   ],
   "source": [
    "time_p_20_60 = [264.8016948699951, 462.6009712219238, 838.9416499137878, 1423.0083861351013, 2607.0624828338623]\n",
    "time_p_20_60"
   ]
  },
  {
   "cell_type": "code",
   "execution_count": 44,
   "id": "43645a23",
   "metadata": {},
   "outputs": [
    {
     "data": {
      "text/plain": [
       "Text(0.5, 1.0, \"Dependence of GBC(E)'s work time on the number of features'\")"
      ]
     },
     "execution_count": 44,
     "metadata": {},
     "output_type": "execute_result"
    },
    {
     "data": {
      "image/png": "[encoded data removed]",
      "text/plain": [
       "<Figure size 432x288 with 1 Axes>"
      ]
     },
     "metadata": {
      "needs_background": "light"
     },
     "output_type": "display_data"
    }
   ],
   "source": [
    "plt.plot([20, 30, 40, 50, 60], time_p_20_60, ls = '-')\n",
    "plt.scatter([20, 30, 40, 50, 60], time_p_20_60, ls = '-')\n",
    "plt.grid()\n",
    "plt.xlabel(\"Number of features in X\")\n",
    "plt.ylabel(\"Time of GBC(E) with SBFW (sec)\")\n",
    "plt.title(\"Dependence of GBC(E)'s work time on the number of features'\")"
   ]
  },
  {
   "cell_type": "code",
   "execution_count": null,
   "id": "3fc78a2a",
   "metadata": {},
   "outputs": [],
   "source": []
  }
 ],
 "metadata": {
  "kernelspec": {
   "display_name": "Python 3 (ipykernel)",
   "language": "python",
   "name": "python3"
  },
  "language_info": {
   "codemirror_mode": {
    "name": "ipython",
    "version": 3
   },
   "file_extension": ".py",
   "mimetype": "text/x-python",
   "name": "python",
   "nbconvert_exporter": "python",
   "pygments_lexer": "ipython3",
   "version": "3.8.13"
  }
 },
 "nbformat": 4,
 "nbformat_minor": 5
}
