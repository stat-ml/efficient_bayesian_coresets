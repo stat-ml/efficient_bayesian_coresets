{
 "cells": [
  {
   "cell_type": "code",
   "execution_count": 1,
   "id": "varied-alignment",
   "metadata": {},
   "outputs": [],
   "source": [
    "import numpy as np\n",
    "import matplotlib.pyplot as plt\n",
    "from ebc.sequential_time_tests.non_iterative import SensitivityBasedIS\n",
    "from ebc.sequential_time_tests.iterative_with_convexification import SensitivityBasedFW\n",
    "from ebc.sequential_time_tests.iterative_no_convexification import SparseVI, GIGA, IHT\n",
    "from ebc.gaussian import fisher_norm_under_true_gaussian_posterior, gaussian_multivariate_log_likelihood, gaussian_KL"
   ]
  },
  {
   "cell_type": "markdown",
   "id": "legendary-validation",
   "metadata": {},
   "source": [
    "## Multivariate Gaussian's Mean"
   ]
  },
  {
   "cell_type": "code",
   "execution_count": 2,
   "id": "amazing-sterling",
   "metadata": {},
   "outputs": [],
   "source": [
    "def log_likelihood(params, X, y, weights):\n",
    "    mu = params[:d].reshape(-1, 1)\n",
    "    sigma = np.diag(params[d:].reshape(-1, 1)[:, 0])\n",
    "    return np.diag(gaussian_multivariate_log_likelihood(X.T, mu, sigma)).reshape(-1, 1)\n",
    "\n",
    "# https://stats.stackexchange.com/questions/90134/gradient-of-multivariate-gaussian-log-likelihood\n",
    "def grad_log_likelihood(params, X, y, weights):\n",
    "    mu = params[:d].reshape(-1, 1)\n",
    "    sigma = np.diag(params[d:].reshape(-1, 1)[:, 0])\n",
    "    return (-np.linalg.inv(sigma) @ (X.T - mu)).reshape(-1, X.shape[1])\n",
    "\n",
    "def log_posterior(params, X, y, weights):\n",
    "    return weights.T @ log_likelihood(params, X, y, weights)"
   ]
  },
  {
   "cell_type": "code",
   "execution_count": 3,
   "id": "obvious-timer",
   "metadata": {},
   "outputs": [
    {
     "name": "stdout",
     "output_type": "stream",
     "text": [
      "Seed is 123\n",
      "Coreset size is 50\n",
      "Coreset size is 500\n",
      "Coreset size is 2000\n",
      "Seed is 1234\n",
      "Coreset size is 50\n",
      "Coreset size is 500\n",
      "Coreset size is 2000\n",
      "Seed is 12345\n",
      "Coreset size is 50\n",
      "Coreset size is 500\n",
      "Coreset size is 2000\n",
      "Seed is 123456\n",
      "Coreset size is 50\n",
      "Coreset size is 500\n",
      "Coreset size is 2000\n",
      "Seed is 1234567\n",
      "Coreset size is 50\n",
      "Coreset size is 500\n",
      "Coreset size is 2000\n"
     ]
    }
   ],
   "source": [
    "seeds = [123, 1234, 12345, 123456, 1234567]\n",
    "\n",
    "times = []\n",
    "\n",
    "for seed in seeds:\n",
    "    print(f\"Seed is {seed}\")\n",
    "\n",
    "    # Generate Data\n",
    "    d = 20\n",
    "    N = 5000\n",
    "\n",
    "    np.random.seed(seed)\n",
    "\n",
    "    # Theta as in sparse_vi\n",
    "    theta = np.random.multivariate_normal(mean = np.zeros(d), cov = np.identity(d))\n",
    "\n",
    "    # x as in sparse_vi\n",
    "    x = np.random.multivariate_normal(mean = theta, cov = np.identity(d), size = N)\n",
    "\n",
    "    # Parameters\n",
    "    sigma_0 = np.identity(d)\n",
    "    sigma = np.identity(d)\n",
    "    mu_0 = np.zeros(d).reshape(-1, 1)\n",
    "\n",
    "    # Full Gaussian posterior\n",
    "    sigma_full = np.linalg.inv(np.linalg.inv(sigma_0) + N * np.linalg.inv(sigma))\n",
    "    mu_full =  sigma_full @ (np.linalg.inv(sigma_0) @ mu_0 + np.linalg.inv(sigma) @ np.sum(x, axis = 0).reshape(-1, 1))        \n",
    "\n",
    "    na = {\"log_likelihood\": log_likelihood,\n",
    "          \"log_likelihood_start_value\": np.ones(2 * d),\n",
    "          \"S\": 500,\n",
    "          \"log_likelihood_gradient\": grad_log_likelihood,\n",
    "          \"approx\": \"MCMC\",\n",
    "          \"MCMC_subs_size\": 500,\n",
    "          \"log_posterior\": log_posterior,\n",
    "          \"log_posterior_start_value\": np.ones(2 * d)}\n",
    "    \n",
    "    time_i = np.zeros((3, 4, 5)) # coreset size - step - algorithm\n",
    "    \n",
    "    j = 0\n",
    "    for i in [50, 500, 2000]:\n",
    "        print(f\"Coreset size is {i}\")\n",
    "        sbis = SensitivityBasedIS(x)\n",
    "        sbfw = SensitivityBasedFW(x)\n",
    "        giga = GIGA(x)\n",
    "        svi = SparseVI(x)\n",
    "        iht = IHT(x)\n",
    "        s1, s2, s3, s4 = sbis.run(k = i, likelihood_gram_matrix = None, norm = \"2\", norm_attributes = na)\n",
    "        time_i[j, 0, 0] = s1\n",
    "        time_i[j, 1, 0] = s2\n",
    "        time_i[j, 2, 0] = s3\n",
    "        time_i[j, 3, 0] = s4\n",
    "        \n",
    "        s1, s2, s3, s4 = sbfw.run(k = i, likelihood_gram_matrix = None, norm = \"2\", norm_attributes = na)\n",
    "        time_i[j, 0, 1] = s1\n",
    "        time_i[j, 1, 1] = s2\n",
    "        time_i[j, 2, 1] = s3\n",
    "        time_i[j, 3, 1] = s4\n",
    "        \n",
    "        s1, s2, s3, s4 = giga.run(k = i, likelihood_vectors = None, norm = \"2\", norm_attributes = na)\n",
    "        time_i[j, 0, 2] = s1\n",
    "        time_i[j, 1, 2] = s2\n",
    "        time_i[j, 2, 2] = s3\n",
    "        time_i[j, 3, 2] = s4\n",
    "        \n",
    "        s1, s2, s3, s4 = svi.run(k = i, likelihood_gram_matrix = None, \n",
    "                         norm_attributes = na, T = 100, gamma_func = lambda x : 1e-2 / x)\n",
    "        time_i[j, 0, 3] = s1\n",
    "        time_i[j, 1, 3] = s2\n",
    "        time_i[j, 2, 3] = s3\n",
    "        time_i[j, 3, 3] = s4\n",
    "        \n",
    "        s1, s2, s3, s4 = iht.run(k = i, likelihood_vectors = None, norm = \"2\", norm_attributes = na)\n",
    "        time_i[j, 0, 4] = s1\n",
    "        time_i[j, 1, 4] = s2\n",
    "        time_i[j, 2, 4] = s3\n",
    "        time_i[j, 3, 4] = s4\n",
    "        \n",
    "        j += 1\n",
    "        \n",
    "    times.append(time_i)"
   ]
  },
  {
   "cell_type": "code",
   "execution_count": 4,
   "id": "narrow-standing",
   "metadata": {},
   "outputs": [
    {
     "data": {
      "text/plain": [
       "[array([[[5.63131530e+01, 5.49513693e+01, 5.30992758e+01, 3.55777493e+02,\n",
       "          5.66980970e+01],\n",
       "         [5.60283661e-05, 5.23442030e-01, 1.08740687e+00, 2.19498355e+01,\n",
       "          3.17065716e+00],\n",
       "         [0.00000000e+00, 2.04634666e-03, 2.78704166e-02, 1.66670799e-01,\n",
       "          1.43430185e+00],\n",
       "         [1.59525871e-03, 1.01220584e+00, 2.28013277e-01, 1.96888447e-01,\n",
       "          3.39125562e+00]],\n",
       " \n",
       "        [[5.43843729e+01, 5.31409609e+01, 5.27043719e+01, 3.47682024e+02,\n",
       "          5.27780433e+01],\n",
       "         [3.62396240e-05, 4.96742344e+00, 1.05225897e+01, 2.06177587e+02,\n",
       "          2.94220972e+00],\n",
       "         [0.00000000e+00, 2.53505707e-02, 3.12123775e-01, 1.57265234e+00,\n",
       "          1.53032136e+00],\n",
       "         [9.67741013e-04, 1.01067722e+01, 2.21788716e+00, 1.90139079e+00,\n",
       "          3.10035205e+00]],\n",
       " \n",
       "        [[5.30684459e+01, 5.35252960e+01, 5.26694860e+01, 3.41586241e+02,\n",
       "          5.27171440e+01],\n",
       "         [3.19480896e-05, 1.97985756e+01, 4.21681218e+01, 7.97186043e+02,\n",
       "          8.80849361e-02],\n",
       "         [0.00000000e+00, 1.00936651e-01, 1.41598177e+00, 6.57695818e+00,\n",
       "          5.73890209e-02],\n",
       "         [1.08480453e-03, 4.02867591e+01, 8.91909242e+00, 8.64581847e+00,\n",
       "          7.89501667e-02]]]),\n",
       " array([[[5.29397767e+01, 5.31614320e+01, 5.28064508e+01, 3.56289821e+02,\n",
       "          5.42028651e+01],\n",
       "         [2.98023224e-05, 4.84308481e-01, 1.10137558e+00, 2.02203243e+01,\n",
       "          3.07699490e+00],\n",
       "         [0.00000000e+00, 2.15077400e-03, 2.97675133e-02, 1.46150351e-01,\n",
       "          1.35487604e+00],\n",
       "         [9.57250595e-04, 9.70505714e-01, 2.23506927e-01, 1.78700686e-01,\n",
       "          3.32424545e+00]],\n",
       " \n",
       "        [[5.75825589e+01, 5.64275811e+01, 5.45090592e+01, 3.52694143e+02,\n",
       "          5.25957692e+01],\n",
       "         [4.48226929e-05, 5.03984451e+00, 1.05006969e+01, 1.96867921e+02,\n",
       "          2.91796923e+00],\n",
       "         [0.00000000e+00, 2.31130123e-02, 3.11524868e-01, 1.54246736e+00,\n",
       "          1.51614809e+00],\n",
       "         [1.29199028e-03, 1.01305437e+01, 2.23117232e+00, 1.82315159e+00,\n",
       "          3.07102799e+00]],\n",
       " \n",
       "        [[5.25379870e+01, 5.28581371e+01, 5.25344682e+01, 3.45094091e+02,\n",
       "          5.23691020e+01],\n",
       "         [3.29017639e-05, 1.97835751e+01, 4.16765962e+01, 7.96590066e+02,\n",
       "          2.88484192e+00],\n",
       "         [0.00000000e+00, 1.02007866e-01, 1.23486423e+00, 6.08182979e+00,\n",
       "          1.98662949e+00],\n",
       "         [1.09291077e-03, 3.97533796e+01, 8.84956527e+00, 8.49068379e+00,\n",
       "          2.93936324e+00]]]),\n",
       " array([[[5.28679278e+01, 5.30598869e+01, 5.24473531e+01, 3.44149382e+02,\n",
       "          5.26906600e+01],\n",
       "         [3.00407410e-05, 4.80315685e-01, 1.05833149e+00, 2.06572819e+01,\n",
       "          3.14774656e+00],\n",
       "         [0.00000000e+00, 2.21061707e-03, 2.98202038e-02, 1.56371593e-01,\n",
       "          1.35622573e+00],\n",
       "         [8.99076462e-04, 9.75538015e-01, 2.34410286e-01, 2.03114986e-01,\n",
       "          3.39469862e+00]],\n",
       " \n",
       "        [[5.27524660e+01, 5.28644300e+01, 5.29813046e+01, 3.46116689e+02,\n",
       "          5.23187761e+01],\n",
       "         [2.59876251e-05, 4.90133333e+00, 1.09257233e+01, 1.97411781e+02,\n",
       "          9.09974337e-01],\n",
       "         [0.00000000e+00, 2.22585201e-02, 3.29026222e-01, 1.43420362e+00,\n",
       "          4.63449001e-01],\n",
       "         [9.90867615e-04, 9.90712404e+00, 2.36724806e+00, 1.82554626e+00,\n",
       "          9.29696560e-01]],\n",
       " \n",
       "        [[5.30679920e+01, 5.28598473e+01, 5.26969230e+01, 3.46748155e+02,\n",
       "          5.23799870e+01],\n",
       "         [2.98023224e-05, 1.96430514e+01, 4.15308855e+01, 7.90928288e+02,\n",
       "          2.87895870e+00],\n",
       "         [0.00000000e+00, 1.00743294e-01, 1.18912435e+00, 6.13805580e+00,\n",
       "          1.97575903e+00],\n",
       "         [1.13105774e-03, 3.96645212e+01, 8.87001085e+00, 8.51622748e+00,\n",
       "          2.93737578e+00]]]),\n",
       " array([[[5.30020196e+01, 5.29013271e+01, 5.31561248e+01, 3.45020769e+02,\n",
       "          5.25653889e+01],\n",
       "         [3.00407410e-05, 4.91610289e-01, 1.07560301e+00, 1.98737745e+01,\n",
       "          2.93215227e+00],\n",
       "         [0.00000000e+00, 2.34198570e-03, 3.04036140e-02, 1.48607254e-01,\n",
       "          1.34932065e+00],\n",
       "         [9.42945480e-04, 9.73644733e-01, 2.30034351e-01, 1.99921370e-01,\n",
       "          3.09755707e+00]],\n",
       " \n",
       "        [[5.28606219e+01, 5.29885361e+01, 5.26056840e+01, 3.43704291e+02,\n",
       "          5.27937059e+01],\n",
       "         [2.88486481e-05, 4.89003062e+00, 1.04189329e+01, 1.96145792e+02,\n",
       "          2.95780301e+00],\n",
       "         [0.00000000e+00, 2.42319107e-02, 3.00718546e-01, 1.62070322e+00,\n",
       "          1.52761412e+00],\n",
       "         [9.64164734e-04, 9.88133788e+00, 2.22425580e+00, 1.91757989e+00,\n",
       "          3.11395597e+00]],\n",
       " \n",
       "        [[5.35837872e+01, 5.30124490e+01, 5.26094942e+01, 3.45681974e+02,\n",
       "          5.25127280e+01],\n",
       "         [3.40938568e-05, 1.99016008e+01, 4.18619561e+01, 7.96064130e+02,\n",
       "          5.10067534e+00],\n",
       "         [0.00000000e+00, 9.69789028e-02, 1.21957779e+00, 6.36134291e+00,\n",
       "          2.02589631e+00],\n",
       "         [1.07693672e-03, 4.02775736e+01, 8.85251856e+00, 7.33643436e+00,\n",
       "          7.26232266e+00]]]),\n",
       " array([[[5.47255232e+01, 5.22688482e+01, 5.27396870e+01, 3.39097824e+02,\n",
       "          5.12832520e+01],\n",
       "         [3.12328339e-05, 4.99225378e-01, 1.07107329e+00, 2.00885460e+01,\n",
       "          4.59478617e+00],\n",
       "         [0.00000000e+00, 2.34556198e-03, 3.55453491e-02, 1.60839081e-01,\n",
       "          1.37085915e+00],\n",
       "         [9.68933105e-04, 9.86772537e-01, 2.26016045e-01, 2.15551615e-01,\n",
       "          5.95670867e+00]],\n",
       " \n",
       "        [[5.16788180e+01, 5.20732629e+01, 5.21826282e+01, 3.44857524e+02,\n",
       "          5.35049710e+01],\n",
       "         [3.07559967e-05, 4.94825816e+00, 1.07951143e+01, 2.01511799e+02,\n",
       "          2.78305197e+00],\n",
       "         [0.00000000e+00, 2.33876705e-02, 4.83163595e-01, 1.61567354e+00,\n",
       "          1.65407348e+00],\n",
       "         [9.71078873e-04, 9.99344730e+00, 2.22850847e+00, 2.07556868e+00,\n",
       "          2.94595480e+00]],\n",
       " \n",
       "        [[5.36631739e+01, 5.46796930e+01, 5.36939790e+01, 3.46788033e+02,\n",
       "          5.53341620e+01],\n",
       "         [4.10079956e-05, 2.09464879e+01, 4.27413507e+01, 7.94925310e+02,\n",
       "          3.10986733e+00],\n",
       "         [0.00000000e+00, 8.61349106e-02, 1.17553377e+00, 6.28121829e+00,\n",
       "          1.97091794e+00],\n",
       "         [1.26004219e-03, 4.19203601e+01, 9.13743711e+00, 8.87069201e+00,\n",
       "          3.16619086e+00]]])]"
      ]
     },
     "execution_count": 4,
     "metadata": {},
     "output_type": "execute_result"
    }
   ],
   "source": [
    "times"
   ]
  },
  {
   "cell_type": "code",
   "execution_count": 5,
   "id": "indirect-blackjack",
   "metadata": {},
   "outputs": [],
   "source": [
    "full_time = np.array(times)"
   ]
  },
  {
   "cell_type": "code",
   "execution_count": 12,
   "id": "addressed-trustee",
   "metadata": {},
   "outputs": [],
   "source": [
    "meds = np.median(full_time, axis = 0)\n",
    "stds = np.std(full_time, axis = 0)"
   ]
  },
  {
   "cell_type": "code",
   "execution_count": 14,
   "id": "statutory-melissa",
   "metadata": {},
   "outputs": [
    {
     "data": {
      "text/plain": [
       "(3, 4, 5)"
      ]
     },
     "execution_count": 14,
     "metadata": {},
     "output_type": "execute_result"
    }
   ],
   "source": [
    "meds.shape # coreset size - step - algorithm"
   ]
  },
  {
   "cell_type": "code",
   "execution_count": 24,
   "id": "federal-ideal",
   "metadata": {},
   "outputs": [
    {
     "data": {
      "text/plain": [
       "array([[5.30020196e+01, 5.30598869e+01, 5.28064508e+01, 3.45020769e+02,\n",
       "        5.26906600e+01],\n",
       "       [3.00407410e-05, 4.91610289e-01, 1.07560301e+00, 2.02203243e+01,\n",
       "        3.14774656e+00],\n",
       "       [0.00000000e+00, 2.21061707e-03, 2.98202038e-02, 1.56371593e-01,\n",
       "        1.35622573e+00],\n",
       "       [9.57250595e-04, 9.75538015e-01, 2.28013277e-01, 1.99921370e-01,\n",
       "        3.39125562e+00]])"
      ]
     },
     "execution_count": 24,
     "metadata": {},
     "output_type": "execute_result"
    }
   ],
   "source": [
    "meds[0] # 50"
   ]
  },
  {
   "cell_type": "code",
   "execution_count": 16,
   "id": "failing-paragraph",
   "metadata": {},
   "outputs": [
    {
     "data": {
      "text/plain": [
       "array([[5.28606219e+01, 5.29885361e+01, 5.27043719e+01, 3.46116689e+02,\n",
       "        5.27780433e+01],\n",
       "       [3.07559967e-05, 4.94825816e+00, 1.05225897e+01, 1.97411781e+02,\n",
       "        2.91796923e+00],\n",
       "       [0.00000000e+00, 2.33876705e-02, 3.12123775e-01, 1.57265234e+00,\n",
       "        1.52761412e+00],\n",
       "       [9.71078873e-04, 9.99344730e+00, 2.22850847e+00, 1.90139079e+00,\n",
       "        3.07102799e+00]])"
      ]
     },
     "execution_count": 16,
     "metadata": {},
     "output_type": "execute_result"
    }
   ],
   "source": [
    "meds[1] # 500"
   ]
  },
  {
   "cell_type": "code",
   "execution_count": 17,
   "id": "olive-swaziland",
   "metadata": {},
   "outputs": [
    {
     "data": {
      "text/plain": [
       "array([[5.30684459e+01, 5.30124490e+01, 5.26694860e+01, 3.45681974e+02,\n",
       "        5.25127280e+01],\n",
       "       [3.29017639e-05, 1.97985756e+01, 4.18619561e+01, 7.96064130e+02,\n",
       "        2.88484192e+00],\n",
       "       [0.00000000e+00, 1.00743294e-01, 1.21957779e+00, 6.28121829e+00,\n",
       "        1.97575903e+00],\n",
       "       [1.09291077e-03, 4.02775736e+01, 8.87001085e+00, 8.51622748e+00,\n",
       "        2.93936324e+00]])"
      ]
     },
     "execution_count": 17,
     "metadata": {},
     "output_type": "execute_result"
    }
   ],
   "source": [
    "meds[2] # 2000"
   ]
  },
  {
   "cell_type": "code",
   "execution_count": 19,
   "id": "after-iraqi",
   "metadata": {},
   "outputs": [
    {
     "data": {
      "text/plain": [
       "array([[1.36191705e+00, 8.96788899e-01, 2.57697732e-01, 6.81380759e+00,\n",
       "        1.85276177e+00],\n",
       "       [1.03118172e-05, 1.52655547e-02, 1.46465624e-02, 7.41571232e-01,\n",
       "        6.10860280e-01],\n",
       "       [0.00000000e+00, 1.14610328e-04, 2.57734908e-03, 7.59892896e-03,\n",
       "        3.14101832e-02],\n",
       "       [2.62352858e-04, 1.52566925e-02, 3.70322900e-03, 1.19006166e-02,\n",
       "        1.06743545e+00]])"
      ]
     },
     "execution_count": 19,
     "metadata": {},
     "output_type": "execute_result"
    }
   ],
   "source": [
    "stds[0]"
   ]
  },
  {
   "cell_type": "code",
   "execution_count": 20,
   "id": "governing-surge",
   "metadata": {},
   "outputs": [
    {
     "data": {
      "text/plain": [
       "array([[2.05499469e+00, 1.51001707e+00, 7.98564894e-01, 3.13432487e+00,\n",
       "        3.92626349e-01],\n",
       "       [6.65081009e-06, 5.35564809e-02, 1.93642190e-01, 3.77097062e+00,\n",
       "        7.98512003e-01],\n",
       "       [0.00000000e+00, 1.05092990e-03, 6.85272289e-02, 6.78759605e-02,\n",
       "        4.40322413e-01],\n",
       "       [1.27746214e-04, 1.01111441e-01, 5.68941572e-02, 9.18808931e-02,\n",
       "        8.53321183e-01]])"
      ]
     },
     "execution_count": 20,
     "metadata": {},
     "output_type": "execute_result"
    }
   ],
   "source": [
    "stds[1]"
   ]
  },
  {
   "cell_type": "code",
   "execution_count": 21,
   "id": "invisible-democracy",
   "metadata": {},
   "outputs": [
    {
     "data": {
      "text/plain": [
       "array([[4.08308823e-01, 6.91094092e-01, 4.30187177e-01, 1.90889212e+00,\n",
       "        1.14268044e+00],\n",
       "       [3.79856992e-06, 4.73132387e-01, 4.29299752e-01, 2.23282761e+00,\n",
       "        1.59726399e+00],\n",
       "       [0.00000000e+00, 5.86497460e-03, 8.70759493e-02, 1.75448769e-01,\n",
       "        7.73206126e-01],\n",
       "       [6.80329828e-05, 8.11967477e-01, 1.08747010e-01, 5.34968013e-01,\n",
       "        2.29573262e+00]])"
      ]
     },
     "execution_count": 21,
     "metadata": {},
     "output_type": "execute_result"
    }
   ],
   "source": [
    "stds[2]"
   ]
  },
  {
   "cell_type": "code",
   "execution_count": null,
   "id": "weekly-conversion",
   "metadata": {},
   "outputs": [],
   "source": []
  }
 ],
 "metadata": {
  "kernelspec": {
   "display_name": "Python 3",
   "language": "python",
   "name": "python3"
  },
  "language_info": {
   "codemirror_mode": {
    "name": "ipython",
    "version": 3
   },
   "file_extension": ".py",
   "mimetype": "text/x-python",
   "name": "python",
   "nbconvert_exporter": "python",
   "pygments_lexer": "ipython3",
   "version": "3.8.8"
  }
 },
 "nbformat": 4,
 "nbformat_minor": 5
}
